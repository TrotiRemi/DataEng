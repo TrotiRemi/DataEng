{
 "cells": [
  {
   "cell_type": "markdown",
   "metadata": {},
   "source": [
    "# Requête HTTP "
   ]
  },
  {
   "cell_type": "markdown",
   "metadata": {},
   "source": [
    "Un requête HTTP est une requête basée sur le protocole TCP, elle fait partie de la couche application de la couche OSI. Elle permet d'accéder aux données mise à disposition sur une adresse IP (ou url résolue par un DNS) et un port. \n",
    "\n",
    "Les deux ports les plus utilisés dans le web sont le 80 pour les sites en HTTP et le 443 pour les sites en HTTPS. HTTPS est une variable du protocole HTTP basé sur le protocole TLS.\n",
    "\n",
    "Il existe de nombreux types de requêtes selon la convention `REST`: \n",
    "- GET\n",
    "- POST\n",
    "- PUT \n",
    "- DELETE\n",
    "- UPDATE.\n",
    "\n",
    "Dans notre cas, nous allons utiliser la plupart du temps des GET et potentiellement des POST. \n",
    "- Le GET permet comme son nom l'indique de récupérer des informations en fonction de certains paramètres. \n",
    "- Le POST nécessite un envoi de données pour récupérer des données. Le body du post est, la plupart du temps, envoyé sous la forme d'un objet JSON.\n",
    "\n",
    "Ces requêtes encapsulent un certain nombre de paramètres qui permettent soient d'identifier une provenance et un utilisateur ou de réaliser différentes actions."
   ]
  },
  {
   "cell_type": "code",
   "execution_count": 1,
   "metadata": {
    "ExecuteTime": {
     "end_time": "2024-10-07T19:47:38.635370Z",
     "start_time": "2024-10-07T19:47:38.599631Z"
    }
   },
   "outputs": [],
   "source": [
    "import requests"
   ]
  },
  {
   "cell_type": "code",
   "execution_count": 2,
   "metadata": {
    "ExecuteTime": {
     "end_time": "2024-10-07T19:48:01.794276Z",
     "start_time": "2024-10-07T19:48:01.690378Z"
    }
   },
   "outputs": [
    {
     "data": {
      "text/plain": [
       "200"
      ]
     },
     "execution_count": 2,
     "metadata": {},
     "output_type": "execute_result"
    }
   ],
   "source": [
    "url = \"https://www.esiee.fr/\"\n",
    "response = requests.get(url)\n",
    "response.status_code"
   ]
  },
  {
   "cell_type": "markdown",
   "metadata": {},
   "source": [
    "Il existe deux méthodes pour récupérer le contenu de la page :\n",
    "\n",
    "- `response.text` qui permet de retourner le texte sous la forme d'une chaine de charactères.\n",
    "- `response.content` qui permet de récupérer le contenu de la page sous la forme de bytes"
   ]
  },
  {
   "cell_type": "code",
   "execution_count": 3,
   "metadata": {
    "ExecuteTime": {
     "end_time": "2024-10-07T19:48:06.901620Z",
     "start_time": "2024-10-07T19:48:06.898643Z"
    }
   },
   "outputs": [
    {
     "data": {
      "text/plain": [
       "bytes"
      ]
     },
     "execution_count": 3,
     "metadata": {},
     "output_type": "execute_result"
    }
   ],
   "source": [
    "type(response.content)"
   ]
  },
  {
   "cell_type": "code",
   "execution_count": 4,
   "metadata": {
    "ExecuteTime": {
     "end_time": "2024-10-07T19:48:13.168682Z",
     "start_time": "2024-10-07T19:48:13.166007Z"
    }
   },
   "outputs": [
    {
     "data": {
      "text/plain": [
       "str"
      ]
     },
     "execution_count": 4,
     "metadata": {},
     "output_type": "execute_result"
    }
   ],
   "source": [
    "type(response.text)"
   ]
  },
  {
   "cell_type": "markdown",
   "metadata": {},
   "source": [
    "Pour récupérer les 1000 premiers charactères de la page :"
   ]
  },
  {
   "cell_type": "code",
   "execution_count": 5,
   "metadata": {
    "ExecuteTime": {
     "end_time": "2024-10-07T19:48:15.251081Z",
     "start_time": "2024-10-07T19:48:15.248157Z"
    }
   },
   "outputs": [
    {
     "data": {
      "text/plain": [
       "'<!DOCTYPE html>\\n<html lang=\"fr-FR\">\\n<head>\\n\\n<meta charset=\"utf-8\">\\n<!-- \\n\\tThis website is powered by TYPO3 - inspiring people to share!\\n\\tTYPO3 is a free open source Content Management Framework initially created by Kasper Skaarhoj and licensed under GNU/GPL.\\n\\tTYPO3 is copyright 1998-2024 of Kasper Skaarhoj. Extensions are copyright of their respective owners.\\n\\tInformation and contribution at https://typo3.org/\\n-->\\n\\n\\n\\n<title>ESIEE Paris, l&#039;école de l&#039;innovation technologique | ESIEE Paris</title>\\n<meta name=\"generator\" content=\"TYPO3 CMS\" />\\n<meta name=\"description\" content=\"Rejoignez ESIEE Paris, grande école d&#039;ingénieur dans les domaines des transitions numérique, énergétique et environnementale. Classée dans le groupe A, parmi les meilleures écoles d&#039;ingénieur selon le classement de l&#039;Etudiant. Habilitée par la Commission des Titres d&#039;Ingénieur (CTI). Membre de la Conférence des Grandes Ecoles (CGE). \" />\\n<meta name=\"viewport\" content=\"width=device-width'"
      ]
     },
     "execution_count": 5,
     "metadata": {},
     "output_type": "execute_result"
    }
   ],
   "source": [
    "response.text[0:1000]"
   ]
  },
  {
   "cell_type": "markdown",
   "metadata": {},
   "source": [
    "Pour récupérer les headers HTTP de la réponse :"
   ]
  },
  {
   "cell_type": "code",
   "execution_count": 6,
   "metadata": {
    "ExecuteTime": {
     "end_time": "2024-10-07T19:48:23.287126Z",
     "start_time": "2024-10-07T19:48:23.284018Z"
    }
   },
   "outputs": [
    {
     "data": {
      "text/plain": [
       "{'Date': 'Tue, 19 Nov 2024 13:02:58 GMT', 'Server': 'Apache', 'Content-Language': 'fr', 'Vary': 'Accept-Encoding', 'Content-Encoding': 'gzip', 'X-UA-Compatible': 'IE=edge', 'X-Content-Type-Options': 'nosniff', 'Content-Length': '16453', 'Content-Type': 'text/html; charset=utf-8', 'X-Varnish': '109904334 107873684', 'Age': '109', 'Via': '1.1 varnish (Varnish/7.1)', 'Accept-Ranges': 'bytes', 'Connection': 'keep-alive'}"
      ]
     },
     "execution_count": 6,
     "metadata": {},
     "output_type": "execute_result"
    }
   ],
   "source": [
    "response.headers"
   ]
  },
  {
   "cell_type": "markdown",
   "metadata": {},
   "source": [
    "On peut modifier les paramètres de la requête et/ou ses headers. On peut par exemple ajouter un UserAgent (identifiant de l'initiateur de la requête) et un timeout de 10 secondes :"
   ]
  },
  {
   "cell_type": "code",
   "execution_count": 7,
   "metadata": {
    "ExecuteTime": {
     "end_time": "2024-10-07T19:48:38.532299Z",
     "start_time": "2024-10-07T19:48:38.452433Z"
    }
   },
   "outputs": [
    {
     "data": {
      "text/plain": [
       "b'<!DOCTYPE html>\\n<html lang=\"fr-FR\">\\n<head>\\n\\n<meta charset=\"utf-8\">\\n<!-- \\n\\tThis website is powered by TYPO3 - inspiring people to share!\\n\\tTYPO3 is a free open source Content Management Framework initially created by Kasper Skaarhoj and licensed under GNU/GPL.\\n\\tTYPO3 is copyright 1998-2024 of Kasper Skaarhoj. Extensions are copyright of their respective owners.\\n\\tInformation and contribution at https://typo3.org/\\n-->\\n\\n\\n\\n<title>ESIEE Paris, l&#039;\\xc3\\xa9cole de l&#039;innovation technologique | ESIEE Paris</title>\\n<meta name=\"generator\" content=\"TYPO3 CMS\" />\\n<meta name=\"description\" content=\"Rejoignez ESIEE Paris, grande \\xc3\\xa9cole d&#039;ing\\xc3\\xa9nieur dans les domaines des transitions num\\xc3\\xa9rique, \\xc3\\xa9nerg\\xc3\\xa9tique et environnementale. Class\\xc3\\xa9e dans le groupe A, parmi les meilleures \\xc3\\xa9coles d&#039;ing\\xc3\\xa9nieur selon le classement de l&#039;Etudiant. Habilit\\xc3\\xa9e par la Commission des Titres d&#039;Ing\\xc3\\xa9nieur (CTI). Membre de la Conf\\xc3\\xa9rence des Grandes Ecoles (CGE). \" />\\n<meta name=\"viewport\" content=\"width='"
      ]
     },
     "execution_count": 7,
     "metadata": {},
     "output_type": "execute_result"
    }
   ],
   "source": [
    "headers = {'User-Agent': 'Mozilla/5.0 (Macintosh; Intel Mac OS X 10_10_1) AppleWebKit/537.36 (KHTML, like Gecko) Chrome/39.0.2171.95 Safari/537.36'}\n",
    "response = requests.get(url, headers=headers, timeout = 10)\n",
    "response.content[0:1000]"
   ]
  },
  {
   "cell_type": "markdown",
   "metadata": {},
   "source": [
    "## Exercice"
   ]
  },
  {
   "cell_type": "markdown",
   "metadata": {},
   "source": [
    "## Exercice 1\n",
    "\n",
    "- Créer une classe Python permettant de faire des requêtes HTTP.\n",
    "- Cette classe doit utiliser toujours le même UserAgent.\n",
    "- Le TimeOut sera spécifié à chaque appelle avec une valeur par défaut.\n",
    "- Un mécanisme de retry sera mis en place de façon recursive.\n",
    "\n",
    "## Exercice 2\n",
    "\n",
    "- Faire une fonction permettant de supprimer tous les espaces supperflus d'une string\n",
    "- Faire une fonction qui prend une string html et renvois une string intelligible (enlever les caractères spéciaux,\n",
    "- Récupérer le domaine en fonction d'un url"
   ]
  },
  {
   "cell_type": "code",
   "execution_count": 8,
   "metadata": {},
   "outputs": [
    {
     "name": "stdout",
     "output_type": "stream",
     "text": [
      "b'<!DOCTYPE html>\\n<html lang=\"fr-FR\">\\n<head>\\n\\n<meta charset=\"utf-8\">\\n<!-- \\n\\tThis website is powered by TYPO3 - inspiring people to share!\\n\\tTYPO3 is a free open source Content Management Framework initially created by Kasper Skaarhoj and licensed under GNU/GPL.\\n\\tTYPO3 is copyright 1998-2024 of Kasper Skaarhoj. Extensions are copyright of their respective owners.\\n\\tInformation and contribution at https://typo3.org/\\n-->\\n\\n\\n\\n<title>ESIEE Paris, l&#039;\\xc3\\xa9cole de l&#039;innovation technologique | ESIEE Paris</title>\\n<meta name=\"generator\" content=\"TYPO3 CMS\" />\\n<meta name=\"description\" content=\"Rejoignez ESIEE Paris, grande \\xc3\\xa9cole d&#039;ing\\xc3\\xa9nieur dans les domaines des transitions num\\xc3\\xa9rique, \\xc3\\xa9nerg\\xc3\\xa9tique et environnementale. Class\\xc3\\xa9e dans le groupe A, parmi les meilleures \\xc3\\xa9coles d&#039;ing\\xc3\\xa9nieur selon le classement de l&#039;Etudiant. Habilit\\xc3\\xa9e par la Commission des Titres d&#039;Ing\\xc3\\xa9nieur (CTI). Membre de la Conf\\xc3\\xa9rence des Grandes Ecoles (CGE). \" />\\n<meta name=\"viewport\" content=\"width='\n",
      "Ceci est un texte avec des espaces superflus.\n",
      "Ceci est un texte avec des balises HTML.\n",
      "www.esiee.fr\n"
     ]
    }
   ],
   "source": [
    "#Exercice 1\n",
    "import requests\n",
    "from requests.exceptions import RequestException\n",
    "import re\n",
    "from html import unescape\n",
    "from urllib.parse import urlparse\n",
    "\n",
    "class HTTP:\n",
    "    headers = {'User-Agent': 'Mozilla/5.0 (Macintosh; Intel Mac OS X 10_10_1) AppleWebKit/537.36 (KHTML, like Gecko) Chrome/39.0.2171.95 Safari/537.36'}\n",
    "    \n",
    "    def __init__(self, max_retries=3):\n",
    "        self.max_retries = max_retries\n",
    "    \n",
    "    def http(self, url, timeout=10, retries=0):\n",
    "        try:\n",
    "            response = requests.get(url, headers=self.headers, timeout=timeout)\n",
    "            response.raise_for_status()  \n",
    "            return response.content[:1000]  \n",
    "        \n",
    "        except RequestException as e:\n",
    "          \n",
    "            if retries < self.max_retries:\n",
    "                print(f\"Échec de la requête, tentative {retries + 1} de {self.max_retries}...\")\n",
    "                return self.http(url, timeout, retries=retries + 1)  \n",
    "            else:\n",
    "                print(\"Nombre maximum de tentatives atteint. Échec de la requête.\")\n",
    "                return None  \n",
    "\n",
    "http_client = HTTP(max_retries=3)\n",
    "\n",
    "result = http_client.http(\"https://www.esiee.fr/\")\n",
    "print(result)\n",
    "\n",
    "#Exercice 2 : \n",
    "   \n",
    "def No_Space(string) :\n",
    "    return ' '.join(string.split())\n",
    "\n",
    "def String_Int(html) :\n",
    "    text = re.sub(r'<.*?>', '', html)\n",
    "    text = unescape(text)\n",
    "    text = re.sub(r'[&<>]', '', text)\n",
    "    text = No_Space(text)\n",
    "    return text\n",
    "\n",
    "def get_domain(url):\n",
    "    parsed_url = urlparse(url)\n",
    "    return parsed_url.netloc \n",
    "\n",
    "text = \" Ceci   est    un  texte   avec des   espaces   superflus. \"\n",
    "print(No_Space(text)) \n",
    "html_string = \"<p>Ceci est <strong>un texte</strong> avec &amp; des balises HTML.</p>\"\n",
    "print(String_Int(html_string))\n",
    "url = \"https://www.esiee.fr/\"\n",
    "domain = get_domain(url)\n",
    "print(domain)  # \"www.example.com\""
   ]
  },
  {
   "cell_type": "markdown",
   "metadata": {},
   "source": [
    "# Exploitation du HTML  "
   ]
  },
  {
   "cell_type": "markdown",
   "metadata": {},
   "source": [
    "Ici, il faut récupérer le code HTML d'un site web à partir d'une requête. Lorsque vous avez récupéré le texte d'un site il faut le parser. Pour cela, on utilise BeautifulSoup qui permet de transformer la structure HTML en objet Python. Cela permet de récupérer efficacement les données qui nous intéresse.\n",
    "\n",
    "Pour les webmasters, le blocage le plus souvent mis en place et un blocage sur le User-Agent. Le User-Agent est un paramètre intégré dans la requête HTTP réalisé par le Navigateur pour envoyer au front des informations basiques :\n",
    "\n",
    "- la version du Navigateur,\n",
    "- la version de l'OS\n",
    "- Le type de gestionnaire graphique (Gecko)\n",
    "- le type de device utilisé"
   ]
  },
  {
   "cell_type": "markdown",
   "metadata": {},
   "source": [
    "Exemple de User Agent :  \n",
    "\n",
    "`Mozilla/5.0 (Windows NT 6.1; Win64; x64; rv:47.0) Gecko/20100101 Firefox/47.0`"
   ]
  },
  {
   "cell_type": "markdown",
   "metadata": {},
   "source": [
    "Commençons à utiliser `BeautifulSoup`, il est normalement déjà installé, le cas échéant executez les lignes suivantes : "
   ]
  },
  {
   "cell_type": "code",
   "execution_count": 9,
   "metadata": {
    "ExecuteTime": {
     "end_time": "2024-10-07T19:50:10.823860Z",
     "start_time": "2024-10-07T19:50:10.764935Z"
    }
   },
   "outputs": [],
   "source": [
    "import requests\n",
    "from bs4 import BeautifulSoup"
   ]
  },
  {
   "cell_type": "markdown",
   "metadata": {},
   "source": [
    "Pour transformer une requête (requests) en objet BeautifulSoup :"
   ]
  },
  {
   "cell_type": "code",
   "execution_count": 10,
   "metadata": {
    "ExecuteTime": {
     "end_time": "2024-10-07T19:50:13.979141Z",
     "start_time": "2024-10-07T19:50:13.888552Z"
    }
   },
   "outputs": [],
   "source": [
    "response = requests.get(url)\n",
    "soup = BeautifulSoup(response.text)"
   ]
  },
  {
   "cell_type": "markdown",
   "metadata": {},
   "source": [
    "Pour trouver tous les liens d'une page, on récupère la balise `a` qui permet de gérer les liens en HTML :"
   ]
  },
  {
   "cell_type": "code",
   "execution_count": 12,
   "metadata": {
    "ExecuteTime": {
     "end_time": "2024-10-07T19:50:19.065788Z",
     "start_time": "2024-10-07T19:50:19.063429Z"
    }
   },
   "outputs": [
    {
     "data": {
      "text/plain": [
       "[<a href=\"/#content\">Aller au contenu</a>,\n",
       " <a href=\"/#menu\">Aller au menu</a>,\n",
       " <a href=\"/plan-du-site/\">Plan du site</a>,\n",
       " <a href=\"/actualites/journees-portes-ouvertes-2024-2025\" target=\"_blank\" title=\"Ouvre une nouvelle fenêtre\">Bien choisir son école, c'est aussi la rencontrer ! Rendez-vous à ESIEE Paris le 7 décembre de 13h à 18h pour notre journée portes ouvertes.</a>,\n",
       " <a href=\"/\"><img alt=\"ESIEE PARIS\" class=\"a42-ac-replace-img\" src=\"/typo3conf/ext/esiee_sitepackage/Resources/Public/imgs/svg/logo-esiee.svg\"/></a>,\n",
       " <a href=\"/brochures-1\">Brochures</a>,\n",
       " <a href=\"/informations/etudiantes-et-etudiants\">Espace élèves</a>,\n",
       " <a href=\"/\" hreflang=\"fr-FR\" title=\"Français\">\n",
       " <span>Fr</span>\n",
       " </a>,\n",
       " <a href=\"/en/\" hreflang=\"en-US\" title=\"English\">\n",
       " <span>En</span>\n",
       " </a>,\n",
       " <a href=\"/candidater-1\">Candidater</a>]"
      ]
     },
     "execution_count": 12,
     "metadata": {},
     "output_type": "execute_result"
    }
   ],
   "source": [
    "soup.find_all(\"a\")[0:10]"
   ]
  },
  {
   "cell_type": "markdown",
   "metadata": {},
   "source": [
    "On peut aussi préciser la classe HTML qu'on veut récupérer :\n",
    "\n",
    "```python\n",
    "soup.find_all(class_=\"<CLASS_NAME>\")[0:10]\n",
    "```\n",
    "\n",
    "Ici par exemple: "
   ]
  },
  {
   "cell_type": "code",
   "execution_count": 11,
   "metadata": {
    "ExecuteTime": {
     "end_time": "2024-10-07T19:50:34.406680Z",
     "start_time": "2024-10-07T19:50:34.400091Z"
    }
   },
   "outputs": [
    {
     "data": {
      "text/plain": [
       "[<button aria-controls=\"searchbox-header-form\" aria-expanded=\"false\" class=\"toggler\">\n",
       " <i class=\"fa-solid fa-magnifying-glass\"></i>\n",
       " <i class=\"fa-solid fa-xmark\"></i>\n",
       " <span class=\"sr-only\">\n",
       " <span class=\"display\">Afficher</span><span class=\"hide\">Masquer</span> la recherche\n",
       " \t\t</span>\n",
       " </button>,\n",
       " <button aria-controls=\"submenu-40\" aria-expanded=\"false\" class=\"toggler\"><span class=\"sr-only\"><span class=\"display\">Afficher</span><span class=\"hide\">Masquer</span> le sous menu : </span>L'école</button>,\n",
       " <button aria-controls=\"submenu-563\" aria-expanded=\"false\" class=\"toggler\"><span class=\"sr-only\"><span class=\"display\">Afficher</span><span class=\"hide\">Masquer</span> le sous menu : </span>Gouvernance et conseils</button>,\n",
       " <button aria-controls=\"submenu-65\" aria-expanded=\"false\" class=\"toggler\"><span class=\"sr-only\"><span class=\"display\">Afficher</span><span class=\"hide\">Masquer</span> le sous menu : </span>Départements d'enseignements et de recherche</button>,\n",
       " <button aria-controls=\"submenu-67\" aria-expanded=\"false\" class=\"toggler\"><span class=\"sr-only\"><span class=\"display\">Afficher</span><span class=\"hide\">Masquer</span> le sous menu : </span>Salles blanches</button>]"
      ]
     },
     "execution_count": 11,
     "metadata": {},
     "output_type": "execute_result"
    }
   ],
   "source": [
    "soup.find_all(class_=\"toggler\")[0:5]"
   ]
  },
  {
   "cell_type": "markdown",
   "metadata": {},
   "source": [
    "Pour récupérer le text sans les balises HTML :"
   ]
  },
  {
   "cell_type": "code",
   "execution_count": 12,
   "metadata": {
    "ExecuteTime": {
     "end_time": "2024-10-07T19:50:43.103789Z",
     "start_time": "2024-10-07T19:50:43.100752Z"
    }
   },
   "outputs": [
    {
     "data": {
      "text/plain": [
       "\"\\n\\n\\n\\n\\nESIEE Paris, l'école de l'innovation technologique | ESIEE Paris\\n\\n\\n\\n\\n\\n\\n\\n\\n\\n\\n\\n\\n\\n\\n\\n\\n\\n\\n\\n\\n\\n\\n\\n\\n\\nAller au contenu\\nAller au menu\\nPlan du site\\n\\n\\n\\n\\n\\n\\n\\nBien choisir son école, c'est aussi la rencontrer ! Rendez-vous à ESIEE Paris le 7 décembre de 13h à 18h pour notre journée portes ouvertes.\\n\\n\\n\\n\\n\\nMasquer l'alerte\\n\\n\\n\\n\\n\\n\\n\\n\\n\\n\\n\\n\\n\\n\\nBrochuresEspace élèves\\n\\n\\n\\nFr\\n\\n\\n\\n\\nEn\\n\\n\\n\\n\\n\\n\\n\\n\\n\\nAfficherMasquer la recherche\\r\\n\\t\\t\\n\\n\\n\\nSaisissez votre recherche\\xa0:\\n\\nLancer la recherche\\n\\n\\n\\nCandidater\\n\\nAfficherMasquer le menu\\n\\n\\n\\n\\n\\nRetour au menu principalAfficherMasquer le sous menu\\xa0: L'écolePourquoi choisir ESIEE Paris ?AfficherMasquer le sous menu\\xa0: Gouvernance et conseilsGouvernance et conseilsConseil scientifiqueAfficherMasquer le sous menu\\xa0: Départements d'enseignements et de rechercheInformatique et télécommunicationsIngénierie des systèmes cyberphysiquesIngénierie industrielleSanté, énergie et environnement durableManagement, sciences humaines et languesCorps professoralAfficherMasquer le sous menu\\xa0: Salles blanchesSa\""
      ]
     },
     "execution_count": 12,
     "metadata": {},
     "output_type": "execute_result"
    }
   ],
   "source": [
    "soup.text[0:1000]"
   ]
  },
  {
   "cell_type": "markdown",
   "metadata": {},
   "source": [
    "## Exercice\n",
    "### Exercice 3\n",
    "\n",
    "Améliorer la classe développé précédemment.\n",
    "\n",
    "- Ajouter une méthode pour récupérer l'objet soup d'un url\n",
    "- Récupérer une liste de User Agent et effectuer une rotation aléatoire sur celui à utiliser\n",
    "- Utiliser cette classe pour parser une page HTML et récupérer : le titre, tous les H1 (si ils existent), les liens vers les images, les liens sortants vers d'autres sites, et le texte principal."
   ]
  },
  {
   "cell_type": "code",
   "execution_count": 14,
   "metadata": {},
   "outputs": [],
   "source": [
    "import requests\n",
    "from requests.exceptions import RequestException\n",
    "from bs4 import BeautifulSoup\n",
    "import random\n",
    "\n",
    "class HTTP2:\n",
    "    # Liste de User-Agents pour rotation\n",
    "    user_agents = [\n",
    "        'Mozilla/5.0 (Windows NT 10.0; Win64; x64) AppleWebKit/537.36 (KHTML, like Gecko) Chrome/91.0.4472.124 Safari/537.36',\n",
    "        'Mozilla/5.0 (Macintosh; Intel Mac OS X 10_15_7) AppleWebKit/537.36 (KHTML, like Gecko) Chrome/91.0.4472.124 Safari/537.36',\n",
    "        'Mozilla/5.0 (iPhone; CPU iPhone OS 14_6 like Mac OS X) AppleWebKit/605.1.15 (KHTML, like Gecko) Version/14.1.1 Mobile/15E148 Safari/604.1',\n",
    "        'Mozilla/5.0 (Linux; Android 10; SM-G975F) AppleWebKit/537.36 (KHTML, like Gecko) Chrome/91.0.4472.124 Mobile Safari/537.36'\n",
    "    ]\n",
    "    \n",
    "    def __init__(self, max_retries=3):\n",
    "        self.max_retries = max_retries\n",
    "\n",
    "    def get_headers(self):\n",
    "        \"\"\"Retourne un en-tête avec un User-Agent aléatoire.\"\"\"\n",
    "        return {\n",
    "            'User-Agent': random.choice(self.user_agents)\n",
    "        }\n",
    "\n",
    "    def http(self, url, timeout=10, retries=0):\n",
    "        \"\"\"\n",
    "        Effectue une requête HTTP GET avec retries.\n",
    "        \"\"\"\n",
    "        try:\n",
    "            headers = self.get_headers()  # Rotation du User-Agent\n",
    "            response = requests.get(url, headers=headers, timeout=timeout)\n",
    "            response.raise_for_status()  # Vérifie si la requête est réussie\n",
    "            return response.content  # Retourne le contenu brut\n",
    "        \n",
    "        except RequestException as e:\n",
    "            if retries < self.max_retries:\n",
    "                print(f\"Échec de la requête, tentative {retries + 1} de {self.max_retries}...\")\n",
    "                return self.http(url, timeout, retries + 1)\n",
    "            else:\n",
    "                print(\"Nombre maximum de tentatives atteint. Échec de la requête.\")\n",
    "                return None\n",
    "\n",
    "    def get_soup(self, url, timeout=10):\n",
    "        \"\"\"\n",
    "        Retourne un objet BeautifulSoup pour une URL donnée.\n",
    "        \"\"\"\n",
    "        html_content = self.http(url, timeout)\n",
    "        if html_content:\n",
    "            return BeautifulSoup(html_content, 'html.parser')\n",
    "        else:\n",
    "            return None\n",
    "\n",
    "    def parse_page(self, url, timeout=10):\n",
    "        \"\"\"\n",
    "        Analyse une page HTML pour extraire :\n",
    "        - Le titre\n",
    "        - Tous les H1\n",
    "        - Les liens vers les images\n",
    "        - Les liens sortants\n",
    "        - Le texte principal\n",
    "        \"\"\"\n",
    "        soup = self.get_soup(url, timeout)\n",
    "        if not soup:\n",
    "            return None\n",
    "        \n",
    "        # Récupérer le titre de la page\n",
    "        title = soup.title.string.strip() if soup.title else \"Titre non trouvé\"\n",
    "\n",
    "        # Récupérer tous les H1\n",
    "        h1_tags = [h1.get_text(strip=True) for h1 in soup.find_all('h1')]\n",
    "\n",
    "        # Récupérer les liens des images\n",
    "        image_links = [img['src'] for img in soup.find_all('img') if 'src' in img.attrs]\n",
    "\n",
    "        # Récupérer les liens sortants (URLs externes)\n",
    "        links = [a['href'] for a in soup.find_all('a', href=True)]\n",
    "        domain = requests.utils.urlparse(url).netloc\n",
    "        outgoing_links = [link for link in links if domain not in link]\n",
    "\n",
    "        # Récupérer le texte principal\n",
    "        main_text = ' '.join([p.get_text(strip=True) for p in soup.find_all('p')])\n",
    "\n",
    "        return {\n",
    "            \"title\": title,\n",
    "            \"h1_tags\": h1_tags,\n",
    "            \"image_links\": image_links,\n",
    "            \"outgoing_links\": outgoing_links,\n",
    "            \"main_text\": main_text\n",
    "        }\n"
   ]
  },
  {
   "cell_type": "code",
   "execution_count": 15,
   "metadata": {},
   "outputs": [
    {
     "name": "stdout",
     "output_type": "stream",
     "text": [
      "Titre : ESIEE Paris, l'école de l'innovation technologique | ESIEE Paris\n",
      "H1 Tags : ['']\n",
      "Liens des images : ['/typo3conf/ext/esiee_sitepackage/Resources/Public/imgs/svg/logo-esiee.svg', 'data:image/gif;base64,R0lGODlhAQABAIAAAP///wAAACH5BAEAAAAALAAAAAABAAEAAAICRAEAOw==', '/fileadmin/user_upload/Fichiers/image-home/ESIEE-Home-Main-Picture.webp', 'data:image/gif;base64,R0lGODlhAQABAIAAAP///wAAACH5BAEAAAAALAAAAAABAAEAAAICRAEAOw==', '/fileadmin/_processed_/9/5/csm_actu-jpo-1344x840_6889669208.jpg', 'data:image/gif;base64,R0lGODlhAQABAIAAAP///wAAACH5BAEAAAAALAAAAAABAAEAAAICRAEAOw==', '/fileadmin/_processed_/0/b/csm_photos-salons-1344x840_472aff3f3e.jpg', 'data:image/gif;base64,R0lGODlhAQABAIAAAP///wAAACH5BAEAAAAALAAAAAABAAEAAAICRAEAOw==', '/fileadmin/_processed_/0/3/csm_sandrine-wamy-trophees-des-femmes-de-l_industrie-2024-1344x840_7f464ae034.jpg', 'data:image/gif;base64,R0lGODlhAQABAIAAAP///wAAACH5BAEAAAAALAAAAAABAAEAAAICRAEAOw==', '/fileadmin/_processed_/1/6/csm_illustration-forum-esiee-2023_1c7f564193.jpg', 'data:image/gif;base64,R0lGODlhAQABAIAAAP///wAAACH5BAEAAAAALAAAAAABAAEAAAICRAEAOw==', '/fileadmin/_processed_/2/e/csm_20-jeux-game-jam-2024-1344x840_136734cca4.jpg', 'data:image/gif;base64,R0lGODlhAQABAIAAAP///wAAACH5BAEAAAAALAAAAAABAAEAAAICRAEAOw==', '/fileadmin/_processed_/7/2/csm_sajjad-maleki-best-paper-1344x840_81cb3e004d.jpg', 'data:image/gif;base64,R0lGODlhAQABAIAAAP///wAAACH5BAEAAAAALAAAAAABAAEAAAICRAEAOw==', '/fileadmin/_processed_/e/7/csm_critical-climate-machine-salle-1344x840_52de3657ff.jpg', 'data:image/gif;base64,R0lGODlhAQABAIAAAP///wAAACH5BAEAAAAALAAAAAABAAEAAAICRAEAOw==', '/fileadmin/_processed_/c/8/csm_visuel-taxe-soltea-2023-1344x756_9216c31522.jpg', 'data:image/gif;base64,R0lGODlhAQABAIAAAP///wAAACH5BAEAAAAALAAAAAABAAEAAAICRAEAOw==', '/fileadmin/_processed_/8/5/csm_roman-fuchs-1344x840_0a8c154738.jpg', 'data:image/gif;base64,R0lGODlhAQABAIAAAP///wAAACH5BAEAAAAALAAAAAABAAEAAAICRAEAOw==', '/fileadmin/_processed_/0/d/csm_visuel-amphi-titre-yann-lecun-1344x840_5827ab6ab4.jpg', 'data:image/gif;base64,R0lGODlhAQABAIAAAP///wAAACH5BAEAAAAALAAAAAABAAEAAAICRAEAOw==', '/fileadmin/_processed_/4/c/csm_heaver-xavier-beaunol-1344x756_9a71bd0ecb.jpg', 'data:image/gif;base64,R0lGODlhAQABAIAAAP///wAAACH5BAEAAAAALAAAAAABAAEAAAICRAEAOw==', '/fileadmin/_processed_/9/2/csm_certification-happyatschool-202-1344x840_e1c5a2b739.jpg', 'data:image/gif;base64,R0lGODlhAQABAIAAAP///wAAACH5BAEAAAAALAAAAAABAAEAAAICRAEAOw==', '/fileadmin/_processed_/3/c/csm_logo-actu-cwur-1344x840_7742b481da.jpg', 'data:image/gif;base64,R0lGODlhAQABAIAAAP///wAAACH5BAEAAAAALAAAAAABAAEAAAICRAEAOw==', '/fileadmin/_processed_/4/e/csm_membres-conseil-scientifique-1344x840_ddc935c844.png', 'data:image/gif;base64,R0lGODlhAQABAIAAAP///wAAACH5BAEAAAAALAAAAAABAAEAAAICRAEAOw==', '/fileadmin/_processed_/2/a/csm_evenement-neurosciences-1344x840_ff96aa55a6.jpg', 'data:image/gif;base64,R0lGODlhAQABAIAAAP///wAAACH5BAEAAAAALAAAAAABAAEAAAICRAEAOw==', '/fileadmin/_processed_/c/4/csm_participants-quiz-1344x840_3802f874ee.jpg', 'data:image/gif;base64,R0lGODlhAQABAIAAAP///wAAACH5BAEAAAAALAAAAAABAAEAAAICRAEAOw==', '/fileadmin/_processed_/e/a/csm_story-classements-540x960_1f891460f0.jpg', 'data:image/gif;base64,R0lGODlhAQABAIAAAP///wAAACH5BAEAAAAALAAAAAABAAEAAAICRAEAOw==', '/fileadmin/_processed_/4/2/csm_graphergia-2_a3abaa930e.png', 'data:image/gif;base64,R0lGODlhAQABAIAAAP///wAAACH5BAEAAAAALAAAAAABAAEAAAICRAEAOw==', '/fileadmin/_processed_/1/d/csm_capture-reportage-france5-lionel_d1c282b790.png', 'data:image/gif;base64,R0lGODlhAQABAIAAAP///wAAACH5BAEAAAAALAAAAAABAAEAAAICRAEAOw==', '/fileadmin/_processed_/7/0/csm_story-feminisation-540x960_6e3222ad89.jpg', 'data:image/gif;base64,R0lGODlhAQABAIAAAP///wAAACH5BAEAAAAALAAAAAABAAEAAAICRAEAOw==', '/fileadmin/_processed_/c/1/csm_actu-classement-logo-ranking-1344x840_ec9b640c4f.jpg', 'data:image/gif;base64,R0lGODlhAQABAIAAAP///wAAACH5BAEAAAAALAAAAAABAAEAAAICRAEAOw==', '/fileadmin/_processed_/a/d/csm_carte-grand-paris-1344x756_f1f626f07b.jpg', 'data:image/gif;base64,R0lGODlhAQABAIAAAP///wAAACH5BAEAAAAALAAAAAABAAEAAAICRAEAOw==', '/fileadmin/_processed_/d/7/csm_illustation_international_b2b69dfcd1.jpg', 'data:image/gif;base64,R0lGODlhAQABAIAAAP///wAAACH5BAEAAAAALAAAAAABAAEAAAICRAEAOw==', '/fileadmin/_processed_/0/f/csm_illustration-recherche-galette-1920x1080_a24a19d4b2.jpg', 'data:image/gif;base64,R0lGODlhAQABAIAAAP///wAAACH5BAEAAAAALAAAAAABAAEAAAICRAEAOw==', '/fileadmin/user_upload/Fichiers/entreprises/recruter-apprentis/illustration-travaux-groupe-1920x1080.jpg', 'data:image/gif;base64,R0lGODlhAQABAIAAAP///wAAACH5BAEAAAAALAAAAAABAAEAAAICRAEAOw==', '/fileadmin/user_upload/Fichiers/entreprises/illustration-innovation-abstaite-1920x1080.jpg', 'data:image/gif;base64,R0lGODlhAQABAIAAAP///wAAACH5BAEAAAAALAAAAAABAAEAAAICRAEAOw==', '/fileadmin/user_upload/Fichiers/recherche/illustration-salles-blanches-facade-exterieur-1920x1080.jpg', 'data:image/gif;base64,R0lGODlhAQABAIAAAP///wAAACH5BAEAAAAALAAAAAABAAEAAAICRAEAOw==', '/fileadmin/user_upload/Fichiers/entreprises/illustration-entretien-poignee-mains-1920x1080.jpg', 'data:image/gif;base64,R0lGODlhAQABAIAAAP///wAAACH5BAEAAAAALAAAAAABAAEAAAICRAEAOw==', '/fileadmin/_processed_/0/9/csm_blank-profile-picture-bleu-400x400_00479b2092.png', 'data:image/gif;base64,R0lGODlhAQABAIAAAP///wAAACH5BAEAAAAALAAAAAABAAEAAAICRAEAOw==', '/fileadmin/_processed_/e/5/csm_blank-profile-picture-rose-400-x-400_ed015df7e9.png', 'data:image/gif;base64,R0lGODlhAQABAIAAAP///wAAACH5BAEAAAAALAAAAAABAAEAAAICRAEAOw==', '/fileadmin/_processed_/0/4/csm_blank-profile-picture-bleu2_400_x_400_97b4966771.png', 'data:image/gif;base64,R0lGODlhAQABAIAAAP///wAAACH5BAEAAAAALAAAAAABAAEAAAICRAEAOw==', '/fileadmin/_processed_/1/1/csm_blank-profile-picture-vert-400-x-400_d335e61b02.png', 'data:image/gif;base64,R0lGODlhAQABAIAAAP///wAAACH5BAEAAAAALAAAAAABAAEAAAICRAEAOw==', '/fileadmin/_processed_/0/9/csm_blank-profile-picture-bleu-400x400_00479b2092.png', 'data:image/gif;base64,R0lGODlhAQABAIAAAP///wAAACH5BAEAAAAALAAAAAABAAEAAAICRAEAOw==', '/fileadmin/_processed_/e/5/csm_blank-profile-picture-rose-400-x-400_ed015df7e9.png', 'data:image/gif;base64,R0lGODlhAQABAIAAAP///wAAACH5BAEAAAAALAAAAAABAAEAAAICRAEAOw==', '/fileadmin/_processed_/0/4/csm_blank-profile-picture-bleu2_400_x_400_97b4966771.png', 'data:image/gif;base64,R0lGODlhAQABAIAAAP///wAAACH5BAEAAAAALAAAAAABAAEAAAICRAEAOw==', '/fileadmin/_processed_/1/1/csm_blank-profile-picture-vert-400-x-400_d335e61b02.png', 'data:image/gif;base64,R0lGODlhAQABAIAAAP///wAAACH5BAEAAAAALAAAAAABAAEAAAICRAEAOw==', '/fileadmin/_processed_/0/9/csm_blank-profile-picture-bleu-400x400_00479b2092.png', 'data:image/gif;base64,R0lGODlhAQABAIAAAP///wAAACH5BAEAAAAALAAAAAABAAEAAAICRAEAOw==', '/fileadmin/_processed_/e/5/csm_blank-profile-picture-rose-400-x-400_ed015df7e9.png', 'data:image/gif;base64,R0lGODlhAQABAIAAAP///wAAACH5BAEAAAAALAAAAAABAAEAAAICRAEAOw==', '/fileadmin/_processed_/0/4/csm_blank-profile-picture-bleu2_400_x_400_97b4966771.png', 'data:image/gif;base64,R0lGODlhAQABAIAAAP///wAAACH5BAEAAAAALAAAAAABAAEAAAICRAEAOw==', '/fileadmin/_processed_/0/1/csm_CGE_RVB_c8cfe1001b.png', 'data:image/gif;base64,R0lGODlhAQABAIAAAP///wAAACH5BAEAAAAALAAAAAABAAEAAAICRAEAOw==', '/fileadmin/_processed_/a/0/csm_cti_logo.svg_64c64e06e1.png', 'data:image/gif;base64,R0lGODlhAQABAIAAAP///wAAACH5BAEAAAAALAAAAAABAAEAAAICRAEAOw==', '/fileadmin/_processed_/e/1/csm_EUR-ACE_52594b329c.png', 'data:image/gif;base64,R0lGODlhAQABAIAAAP///wAAACH5BAEAAAAALAAAAAABAAEAAAICRAEAOw==', '/fileadmin/_processed_/6/e/csm_1200px-DL_04_Dip_Ing.svg_0873c534da.png', '/typo3conf/ext/esiee_sitepackage/Resources/Public/imgs/svg/logo-esiee-footer.svg', '/typo3conf/ext/esiee_sitepackage/Resources/Public/imgs/svg/logo-cci-paris-ile-de-france-education.svg', '/typo3conf/ext/esiee_sitepackage/Resources/Public/imgs/svg/logo-univ-gustave-eiffel.svg']\n",
      "Liens sortants : ['/#content', '/#menu', '/plan-du-site/', '/actualites/journees-portes-ouvertes-2024-2025', '/', '/brochures-1', '/informations/etudiantes-et-etudiants', '/', '/en/', '/candidater-1', '/lecole/pourquoi-choisir-esiee-paris', '/lecole/gouvernance-et-conseils/gouvernance-et-conseils', '/lecole/gouvernance-et-conseils/conseil-scientifique', '/lecole/departements-denseignements-et-de-recherche/informatique-et-telecommunications', '/lecole/departements-denseignements-et-de-recherche/ingenierie-des-systemes-cyberphysiques', '/lecole/departements-denseignements-et-de-recherche/ingenierie-industrielle', '/lecole/departements-denseignements-et-de-recherche/sante-energie-et-environnement-durable', '/lecole/departements-denseignements-et-de-recherche/management-sciences-humaines-et-langues', '/lecole/corps-professoral', '/lecole/salles-blanches/salles-blanches', '/lecole/salles-blanches/equipements-et-procedes', '/lecole/salles-blanches/formation', '/lecole/salles-blanches/recherche', '/lecole/salles-blanches/collaborations-industrielles', '/lecole/alumni/le-reseau', '/lecole/alumni/wall-of-fame', '/lecole/visite-virtuelle-esiee-paris', '/lecole/esiee-paris-recrute', '/lecole/location-despaces', '/formations/les-formations-esiee-paris', '/formations/ingenieur/ingenieur-a-esiee-paris', '/formations/ingenieur/le-premier-cycle', '/formations/ingenieur/le-cycle-ingenieur', '/formations/ingenieur/double-diplomes', '/formations/ingenieur/filieres/nos-filieres', '/formations/ingenieur/filieres/informatique', '/formations/ingenieur/filieres/cybersecurite', '/formations/ingenieur/filieres/data-science-et-intelligence-artificielle', '/formations/ingenieur/filieres/artificial-intelligence-and-cybersecurity', '/formations/ingenieur/filieres/systemes-embarques', '/formations/ingenieur/filieres/systemes-electroniques-intelligents', '/formations/ingenieur/filieres/genie-industriel', '/formations/ingenieur/filieres/biotechnologies-et-e-sante', '/formations/ingenieur/filieres/energie', '/formations/ingenieur/filieres/imac', '/formations/ingenieur/stages', '/formations/ingenieur/insertion-professionnelle', '/formations/ingenieur/frais-de-scolarite-et-aides-financieres', '/formations/ingenieur-par-apprentissage/devenir-ingenieur-par-apprentissage', '/formations/ingenieur-par-apprentissage/informatique-et-applications', '/formations/ingenieur-par-apprentissage/informatique-design-architecture-et-developpement', '/formations/ingenieur-par-apprentissage/data-et-applications', '/formations/ingenieur-par-apprentissage/reseaux-et-securite', '/formations/ingenieur-par-apprentissage/electronique-et-informatique', '/formations/ingenieur-par-apprentissage/systemes-embarques', '/formations/ingenieur-par-apprentissage/genie-industriel', '/formations/ingenieur-par-apprentissage/genie-mecanique', '/formations/ingenieur-par-apprentissage/maintenance-et-fiabilite-des-processus-industriels', '/formations/ingenieur-par-apprentissage/energies', '/formations/ingenieur-par-apprentissage/genie-civil', '/formations/ingenieur-par-apprentissage/diplome-universitaire-du', '/formations/bachelor', '/formations/programmes-internationaux/programmes-internationaux', '/formations/programmes-internationaux/filiere-artificial-intelligence-and-cybersecurity', '/formations/programmes-internationaux/msc-management-of-technology-information-systems', '/formations/licence-professionnelle', '/formations/formation-continue/formation-continue', '/formations/formation-continue/programmes-courts-salles-blanches/decouverte-des-technologies-de-salles-blanches', '/formations/formation-continue/programmes-courts-salles-blanches/initiation-aux-technologies-de-microfabrication', '/recherche/la-recherche-a-esiee-paris', '/recherche/3-axes-de-recherche', '/recherche/projets-de-recherche', '/recherche/laboratoires', '/recherche/publications', '/recherche/plateformes-et-equipements', '/recherche/partenariats-entreprise', '/recherche/se-former-a-la-recherche', '/vie-de-campus/la-vie-sur-le-campus', '/vie-de-campus/services-aux-eleves/financer-vos-etudes', '/vie-de-campus/services-aux-eleves/amenagements-detude', '/vie-de-campus/services-aux-eleves/assistetud-et-relais-handicap', '/vie-de-campus/services-aux-eleves/sante', '/vie-de-campus/services-aux-eleves/logements', '/vie-de-campus/vie-associative', '/vie-de-campus/ressources/ressources-numeriques', '/vie-de-campus/ressources/espace-de-travail-partage', '/vie-de-campus/ressources/centre-de-langues', '/vie-de-campus/ressources/laboratoires-denseignement', '/vie-de-campus/ressources/ordinateurs-portables', '/vie-de-campus/restauration', '/vie-de-campus/sport', '/international/une-large-ouverture-a-linternational', '/international/partenaires-academiques', '/international/etudiants-en-echange', '/international/partir-etudier-a-linternational', '/formations/programmes-internationaux/programmes-internationaux', '/international/organiser-votre-sejour-a-esiee-paris', '/international/campus-a-letranger', '/entreprises/entreprises', 'http://esiee.jobteaser.com/fr/recruiter_account/job_offers', '/entreprises/entreprises-partenaires', '/entreprises/devenez-partenaire', '/entreprises/recrutez-des-eleves/recrutez-vos-stagiaires', '/entreprises/recrutez-des-eleves/recrutez-vos-apprentis', '/entreprises/developpez-vos-projets-technologiques', '/entreprises/soutenez-esiee-paris/devenez-mecene', '/entreprises/soutenez-esiee-paris/versez-votre-taxe-dapprentissage', '/formations/formation-continue/formation-continue', '/brochures-1', '/informations/etudiantes-et-etudiants', '/actualites/classements', '/actualites/toutes-ingenieures', '/actualites/gaelle-lissorgues-nommee-directrice-generale-adjointe-de-esiee-paris', '/lecole/pourquoi-choisir-esiee-paris', '/lecole/visite-virtuelle-esiee-paris', '/formations/ingenieur/ingenieur-a-esiee-paris', '/formations/ingenieur-par-apprentissage/devenir-ingenieur-par-apprentissage', '/formations/programmes-internationaux/programmes-internationaux', '/formations/bachelor', '/formations/licence-professionnelle', '/formations/formation-continue/formation-continue', '/actualites/journees-portes-ouvertes-2024-2025', '/actualites/venez-decouvrir-esiee-paris-lors-des-salons-dorientation-parisiens', '/actualites/sandrine-wamy-alumni-esiee-paris-est-nommee-femme-internationale-de-lannee-lors-des-trophees-des-femmes-de-lindustrie-2024', '/actualites/forum-pour-lemploi-esiee-paris-7-novembre-2024', '/actualites/une-nouvelle-edition-de-la-game-jam-esiee-paris', '/actualites/best-paper-award-ieee-smartgridcomm-2024', '/actualites/gaetan-robillard-recoit-le-prestigieux-prix-best-art-paper-a-denver', '/actualites/taxe-dapprentissage-2024-encouragez-linnovation-en-choisissant-esiee-paris', '/actualites/un-etudiant-esiee-paris-qualifie-pour-les-jo-paris-2024', '/actualites/esiee-paris-remet-a-yann-le-cun-le-titre-de-professeur-honoris-causa', '/actualites/un-etudiant-esiee-paris-selectionne-au-g20-yea-des-jeunes-entrepreneurs', '/actualites/esiee-paris-se-classe-dans-le-top-10-des-ecoles-dingenieurs-rse-happyatschoolr-2024', '/actualites/luniversite-gustave-eiffel-parmi-les-meilleures-universites-au-monde-selon-cwur', '/actualites/yann-le-cun-president-du-nouveau-conseil-scientifique-esiee-paris', '/actualites/des-implants-neuronaux-pour-reparer-lhumain-une-realite', '/actualites/un-engagement-continu-de-esiee-paris-pour-le-mois-de-legalite', '/actualites/classements', '/actualites/graphergia-un-nouveau-projet-de-recherche-sur-la-recuperation-denergie', '/actualites/implants-en-diamant-les-salles-blanches-esiee-paris-a-lhonneur-sur-france-5', '/actualites/toutes-ingenieures', '/actualites/classement-thematique-de-shanghai-2023-luniversite-gustave-eiffel-conforte-sa-place-parmi-les-meilleures-universites-mondiales', '/actualites/esiee-paris-au-coeur-des-nouvelles-lignes-du-grand-paris', '/actualites', '/vie-de-campus/la-vie-sur-le-campus', '/lecole/visite-virtuelle-esiee-paris', '/lecole/pourquoi-choisir-esiee-paris', '/formations/ingenieur-par-apprentissage/systemes-embarques', '/formations/ingenieur-par-apprentissage/informatique-design-architecture-et-developpement', '/formations/ingenieur-par-apprentissage/informatique-et-applications', '/formations/ingenieur-par-apprentissage/data-et-applications', '/formations/ingenieur-par-apprentissage/reseaux-et-securite', '/formations/ingenieur-par-apprentissage/electronique-et-informatique', '/formations/ingenieur-par-apprentissage/genie-industriel', '/formations/ingenieur-par-apprentissage/genie-mecanique', '/formations/ingenieur-par-apprentissage/maintenance-et-fiabilite-des-processus-industriels', '/formations/ingenieur-par-apprentissage/genie-civil', '/formations/ingenieur-par-apprentissage/energies', '/formations/ingenieur/filieres/informatique', '/formations/ingenieur/filieres/cybersecurite', '/formations/ingenieur/filieres/artificial-intelligence-and-cybersecurity', '/formations/ingenieur/filieres/data-science-et-intelligence-artificielle', '/formations/ingenieur/filieres/systemes-embarques', '/formations/programmes-internationaux/msc-management-of-technology-information-systems', '/formations/programmes-internationaux/filiere-artificial-intelligence-and-cybersecurity', '/formations/licence-professionnelle', '/formations/ingenieur/filieres/genie-industriel', '/formations/ingenieur/filieres/systemes-electroniques-intelligents', '/formations/ingenieur/filieres/biotechnologies-et-e-sante', '/formations/ingenieur/filieres/energie', '/formations/bachelor', '/formations/ingenieur/filieres/imac', '/international/une-large-ouverture-a-linternational', '/recherche/la-recherche-a-esiee-paris', '/entreprises/recrutez-des-eleves/recrutez-vos-stagiaires', '/entreprises/developpez-vos-projets-technologiques', '/lecole/salles-blanches/salles-blanches', '/entreprises/soutenez-esiee-paris/devenez-mecene', '/nos-ambassadeurs', 'https://www.cge.asso.fr/', 'https://www.cti-commission.fr/', 'https://www.cti-commission.fr/la-cti/demarche-qualite/systeme-qe/eur-ace', 'https://www.enseignementsup-recherche.gouv.fr/fr/labels-des-formations-controlees-par-l-etat-46088', '#top', 'https://www.facebook.com/esieeparis', 'https://www.instagram.com/esieeparis/', 'https://www.linkedin.com/edu/school?id=20041&trk=tyah&trkInfo=idx%3A4-1-4%2CtarId%3A1425998561386%2Ctas%3Aesiee+paris', 'https://twitter.com/ESIEEPARIS', 'http://www.youtube.com/esieeparis', '/rss.xml', '/contact-1', '/nous-rencontrer-1', '/', 'https://www.cci-paris-idf.fr/fr/education', 'https://www.univ-gustave-eiffel.fr/', 'tel:+33145926500', '/informations/plan-dacces', '/informations/plan-dacces', '/lecole/esiee-paris-recrute', '/brochures-1', '/jour-des-projets', '/lecole/visite-virtuelle-esiee-paris', '/nos-ambassadeurs', '/vie-de-campus/services-aux-eleves/logements', '/vie-de-campus/services-aux-eleves/financer-vos-etudes', '/presse', '/lecole/salles-blanches/salles-blanches', '/lecole/location-despaces', '/entreprises/entreprises', '/lecole/alumni/le-reseau', '/lecole/alumni/wall-of-fame', '/informations/mentions-legales', '/informations/protection-des-donnees', '/plan-site', '#cookies']\n",
      "Texte principal : Bien choisir son école, c'est aussi la rencontrer ! Rendez-vous à ESIEE Paris le 7 décembre de 13h à 18h pour notre journée portes ouvertes. ESIEE Paris, n°1des écoles d’ingénieurs post-bacd’Ile-de-France selon le Palmarès « L’Etudiant 2024 ». En 12 ans, ESIEE Parisest passée de 10 % à 22 % de femmes parmi ses élèves. Nominationau 1er mars 2024 Pourquoi choisir ESIEE Paris ?Visite virtuelle 3 ou 5 ans, accès post-bac ou bac +2/3 10 filières 3  ans, accès bac +2/3 11 filières 18 ou 24 mois, accès bachelor, bac +4 2 programmes 3 ans, accès post-bac 1 programme 1 an, accès bac +2/3 1 programme Programmes pour les professionnels Portes ouvertes07 décembre 2024 Rendez-vous les 7 décembre 2024, 8 février 2025 et 8 mars 2025 (sur inscriptions) Salons Nos élèves vous donnent rendez-vous sur le stand ESIEE Paris dès le mois d'octobre ! Distinctions Ce 24 septembre a eu lieu la 13e édition des Trophées des femmes de l’Industrie. Entreprises07 novembre 2024 Le jeudi 7 novembre, de 10 h à 17 h, ESIEE Paris organise son forum annuel de recrutement au sein de l’école. Cet... EvénementsDu 18 septembre 2024\n",
      "                                au 20 septembre 2024 Pour la 3e année, nos élèves ont relevé le défi de créer un jeu vidéo. Distinctions Un article innovant sur la sécurité des réseaux intelligents remporte le prestigieux Best Paper Award lors de la... Recherche Critical Climate Machine : une installation innovante remarquée lors du SIGGRAPH 2024 en juillet dernier. Entreprises Soutenez nos élèves en attribuant votre taxe d'apprentissage avant le 25 octobre 2024 Sport Roman Fuchs, étudiant et sportif de haut niveau, se qualifie pour le relais 4x200 mètres nage libre aux Jeux Olympiques... Distinctions ESIEE Paris a décerné son premier titre de Professeur Honoris Causa à Yann Le Cun, pionnier de l'IA et diplômé de... Actualités Xavier Beaunol représentera la France au G20 YEA au Brésil en juin 2024 Classements Une accréditation qui évalue l’expérience étudiante Classements Découvrez l'édition 2024 du classement du CWUR. Actualités Un nouveau conseil scientifique de haut niveau Evénements25 avril 2024 Novice ou spécialiste, inscrivez-vous à cet événement sur les neurosciences ce 25 avril à ESIEE Paris. EvénementsDu 04 mars 2024\n",
      "                                au 04 avril 2024 Découvrez les actions mises en place pour promouvoir l’égalité femmes / hommes à cette occasion Story22 janvier 2024 Recherche Piloté par Philippe Basset, enseignant-chercheur à ESIEE Paris - Université Gustave Eiffel, Directeur du laboratoire... Recherche Retrouver la vue grâce aux diamants, c’est ce qu’expérimente Lionel Rousseau, chercheur à ESIEE Paris Story Classements Elle se démarque, cette année encore, dans 9 classements thématiques. Actualités Découvrez la future gare et les deux nouvelles lignes de métro qui desserviront la gare de Noisy-Champs. Une école en forme d'ordinateur. Découvrez notre vaste bâtiment à l'architecture futuriste implanté au coeur d'un campus de 17 000 étudiants, conçu par l'architecte Dominique Perrault. Transports et objets intelligents Ingénieur par apprentissage Ingénieur par apprentissage Ingénierie 3D et technologie des médias Ingénieur par apprentissage IA pour l'industrie et les services(1 an en temps plein + 2 ans d'alternance) Ingénieur par apprentissage Architecture et Internet des objects Ingénieur par apprentissage Systèmes communicants Ingénieur par apprentissage Supply chain et numérique Ingénieur par apprentissage Ingénieur par apprentissage Ingénieur par apprentissage Ingénieur par apprentissage Ingénierie de la transition énergétique Ingénieur par apprentissage Algorithmes et développement Ingénieur Ingénieur Ingénieur Ingénieur Ingénieur Programmes internationaux Programmes internationaux Maintenance des systèmes industriels, de production et d’énergie maintenance industrielle et sûreté des process Licence professionnelle Performance et innovation Ingénieur Ingénieur Ingénieur Ingénieur Économie, Sciences et Technologies Multimédia (BEST'm) Bachelor Ingénieur Les élèves effectuent un séjour de 4 mois minimum à l'étranger. Découvrir 3 axes de recherche, 5 plateformes technologiques, des formations doctorales, de nombreux partenariats entreprises. Découvrir la recherche à ESIEE Paris 96 %des jeunes diplômés ont trouvé leur 1er emploi 4 mois après leur sortie (promo 2023) 90 %des élèves ont trouvé un contrat avant même la fin de leur formation 43 400 €Salaire moyen d'embauche (brut) annuel France et international  Avis certifié Happy at School \" Ce qui me plait le plus, c'est sans aucun doute l'ambiance. Les étudiants y sont tous très gentils, à l'écoute, et très ouverts. A cela j'ajoute la vie associative, riche et pleine d'opportunités. J'adore ! \"  Avis certifié Happy at School \" Un atout : la relation que nous avons avec les profs. Ils sont toujours là pour répondre à nos questions même hors des cours et veulent notre réussite. \"  Avis certifié Happy at School \" La bonne ambiance, le cadre de travail , les nombreux espaces de travail, les formations proposées et le lien avec les entreprises. \"  Avis certifié Happy at School \" La proximité avec le corps enseignant. Post assistance : possibilité de contacter facilement un enseignant en cas de question. \"  Avis certifié Happy at School \" L'associatif est très actif dans mon école, et nous avons un gymnase avec une salle de musculation à notre disposition. \"  Avis certifié Happy at School \" L’ambiance, la proximité des étudiants, les événements associatifs, culturels organisés par le BDE et par l’école (journée des entreprises, Potluck, Future Days, Octobre rose…). \"  Avis certifié Happy at School \" Les étudiants sont tous ouverts d’esprit et ultra bienveillants. De même pour les professeurs qui sont disponibles et à l’écoute. Je peux demander à un élève en dernière année de m’aider sur un sujet et sans hésitation, il le fera ! \"  Avis certifié Happy at School \" L'école pousse les élèves à être plus autonomes et à faire leur propre projet. Elle développe leurs qualités de leadership mais aussi artistiques pour faire des ingénieurs innovants. \"  Avis certifié Happy at School \" Le grand choix d'activités dans lesquelles s'engager (entreprenariat / apprentissage / associatif / double diplôme...). \"  Avis certifié Happy at School \" Engagement important de la part des étudiants envers l'inclusion des autres et le maintien d'un sentiment de sécurité (lutte contre les VSS par ex). \"  Avis certifié Happy at School \" Les professeurs ont vraiment envie que les étudiants apprennent donc sont prêts à apporter leur aide en cas de besoin. Quant aux élèves, tous sont dans le respect les uns envers les autres et dans un esprit de solidarité. \" Back to the top of the page Vous avezdes questions ? Etudiants, parents, entreprises... Vous souhaitez obtenir des informations,contacter directemment nos équipes. 01 45 92 65 00 Nous rejoindre27 avenue André-Marie Ampère77420 Champs-sur-MarnePlan d’accès Envoyer un courrier2 boulevard Blaise PascalCité Descartes, BP 9993162 Noisy-le-Grand Cedex\n"
     ]
    }
   ],
   "source": [
    "# Instancier la classe\n",
    "http_client = HTTP2(max_retries=3)\n",
    "\n",
    "# URL à analyser\n",
    "url = \"https://www.esiee.fr/\"\n",
    "\n",
    "# Analyser la page HTML\n",
    "parsed_data = http_client.parse_page(url)\n",
    "\n",
    "# Afficher les résultats\n",
    "if parsed_data:\n",
    "    print(\"Titre :\", parsed_data[\"title\"])\n",
    "    print(\"H1 Tags :\", parsed_data[\"h1_tags\"])\n",
    "    print(\"Liens des images :\", parsed_data[\"image_links\"])\n",
    "    print(\"Liens sortants :\", parsed_data[\"outgoing_links\"])\n",
    "    print(\"Texte principal :\", parsed_data[\"main_text\"])\n",
    "else:\n",
    "    print(\"Impossible d'analyser la page.\")"
   ]
  },
  {
   "cell_type": "markdown",
   "metadata": {},
   "source": [
    "# Exploitation des appels d'API\n"
   ]
  },
  {
   "cell_type": "markdown",
   "metadata": {},
   "source": [
    "\n",
    "Losque le front du site récupère des données sur une API gérée par le back, un appel d'API est réalisé. Cet appel est recensé dans les appels réseaux. Il est alors possible de re-jouer cet appel pour récupérer à nouveau les données. Il est très facile de récupérer ces appels dans l'onglet Network de la console développeur de Chrome ou FireFox. La console vous permet de copier le code CURL de la requête et vous pouvez ensuite la transformer en code Python depuis le site https://curl.trillworks.com/.\n",
    "\n",
    "Souvent les APIs sont bloquées avec certains paramètres. L'API vérifie que dans les headers de la requête HTTP ces paramètres sont présents :\n",
    "* un token généré à la volée avec des protocoles OAuth2 (ou moins développés).\n",
    "* un referer provenant du site web (la source de la requête), très facile à falsifier.\n",
    "\n"
   ]
  },
  {
   "cell_type": "markdown",
   "metadata": {},
   "source": [
    "## Exercice \n",
    "### Exercice 4\n",
    "\n",
    "- Utiliser les informations développées plus haut pour récupérer les premiers résultats d'une recherche d'une requête\n",
    "sur Google. \n",
    "\n",
    "Tips : \n",
    "\n",
    "- Ouvrir les outils de développements de Chrome ou Firefox\n",
    "- Onglet Network\n",
    "- Fouiller dans les requêtes pour voir à quoi ressemble un appel API Google\n",
    "- Utilisez beautiful soup pour convertir le contenu de la request en objet et accéder aux balises"
   ]
  },
  {
   "cell_type": "code",
   "execution_count": 16,
   "metadata": {},
   "outputs": [],
   "source": [
    "import requests\n",
    "from bs4 import BeautifulSoup\n",
    "import urllib.parse\n",
    "\n",
    "class GoogleSearch:\n",
    "    def __init__(self, max_results=10):\n",
    "        self.base_url = \"https://www.google.com/search\"\n",
    "        self.headers = {\n",
    "            'User-Agent': 'Mozilla/5.0 (Windows NT 10.0; Win64; x64) AppleWebKit/537.36 (KHTML, like Gecko) Chrome/91.0.4472.124 Safari/537.36'\n",
    "        }\n",
    "        self.max_results = max_results\n",
    "\n",
    "    def search(self, query):\n",
    "        \"\"\"\n",
    "        Effectue une recherche sur Google et retourne les résultats.\n",
    "        \"\"\"\n",
    "        # Encoder la requête pour qu'elle soit compatible avec une URL\n",
    "        encoded_query = urllib.parse.quote_plus(query)\n",
    "        url = f\"{self.base_url}?q={encoded_query}&num={self.max_results}\"\n",
    "\n",
    "        # Envoyer une requête GET\n",
    "        response = requests.get(url, headers=self.headers)\n",
    "        if response.status_code != 200:\n",
    "            print(f\"Erreur lors de la requête : {response.status_code}\")\n",
    "            return None\n",
    "\n",
    "        # Utiliser BeautifulSoup pour analyser le contenu HTML\n",
    "        soup = BeautifulSoup(response.text, 'html.parser')\n",
    "\n",
    "        # Extraire les résultats\n",
    "        results = []\n",
    "        for item in soup.select('div.tF2Cxc'):  # Classe contenant un résultat\n",
    "            title = item.select_one('h3').text if item.select_one('h3') else None\n",
    "            link = item.select_one('a')['href'] if item.select_one('a') else None\n",
    "            snippet = item.select_one('.VwiC3b').text if item.select_one('.VwiC3b') else None\n",
    "\n",
    "            if title and link:\n",
    "                results.append({\n",
    "                    'title': title,\n",
    "                    'link': link,\n",
    "                    'snippet': snippet\n",
    "                })\n",
    "\n",
    "        return results\n"
   ]
  },
  {
   "cell_type": "code",
   "execution_count": 23,
   "metadata": {},
   "outputs": [
    {
     "name": "stdout",
     "output_type": "stream",
     "text": [
      "Résultats de recherche Google :\n",
      "1. Titre : Rémi LOCQUETTE - Animateur intervenant - TAOS EVENT\n",
      "   Lien : https://fr.linkedin.com/in/r%C3%A9mi-locquette-0a665425b\n",
      "   Extrait : j'ai travaillé dans des entreprises de différents domaines : -Stagiaire dans un labo de Calibration -Animateur de groupe (adultes comme enfants)\n",
      "\n",
      "2. Titre : Rémi Locquette (@remi_locquette)\n",
      "   Lien : https://www.instagram.com/remi_locquette/\n",
      "   Extrait : 758 Followers, 791 Following, 12 Posts - Rémi Locquette (@remi_locquette) on Instagram: \"Mon objectif dans la vie : l'UTMB\"\n",
      "\n",
      "3. Titre : Classements des coureurs s'appelant Remi Locquette\n",
      "   Lien : https://www.kikourou.net/resultats/locquette+remi.html\n",
      "   Extrait : Kikouroù est un site de course à pied, trail, marathon. Vous trouvez des récits, résultats, photos, vidéos de course, un calendrier, un forum... Bonne visite !\n",
      "\n",
      "4. Titre : Rémi Locquette\n",
      "   Lien : https://m.facebook.com/remi.locquette.3/\n",
      "   Extrait : Rémi Locquette is on Facebook. Join Facebook to connect with Rémi Locquette and others you may know. Facebook gives people the power to share and makes...\n",
      "\n",
      "5. Titre : Rémi Locquette\n",
      "   Lien : https://www.facebook.com/remi.locquette.5/\n",
      "   Extrait : Rémi Locquette is on Facebook. Join Facebook to connect with Rémi Locquette and others you may know. Facebook gives people the power to share and makes...\n",
      "\n"
     ]
    }
   ],
   "source": [
    "# Instancier la classe\n",
    "google_search = GoogleSearch(max_results=5)\n",
    "\n",
    "# Effectuer une recherche\n",
    "query = \"Rémi Locquette\"\n",
    "results = google_search.search(query)\n",
    "\n",
    "# Afficher les résultats\n",
    "if results:\n",
    "    print(\"Résultats de recherche Google :\")\n",
    "    for i, result in enumerate(results, 1):\n",
    "        print(f\"{i}. Titre : {result['title']}\")\n",
    "        print(f\"   Lien : {result['link']}\")\n",
    "        print(f\"   Extrait : {result['snippet']}\\n\")\n",
    "else:\n",
    "    print(\"Aucun résultat trouvé.\")\n"
   ]
  },
  {
   "cell_type": "markdown",
   "metadata": {},
   "source": [
    "# Exercice Final  "
   ]
  },
  {
   "cell_type": "markdown",
   "metadata": {},
   "source": [
    "Exercice Final\n",
    "Utilisez tout ce que vous avez appris pour récupérer des articles de News avec une catégorie. Il est souvent intéressant de partir des flux RSS pour commencer :\n",
    "\n",
    "Les données doivent comprendre :\n",
    "- Le texte important propre\n",
    "- L'url\n",
    "- Le domaine\n",
    "- la catégorie\n",
    "- Le titre de l'article\n",
    "- Le titre de la page\n",
    "- (Facultatif) : les images\n",
    "\n",
    "Tips : \n",
    "\n",
    "- Taper le nom de votre média favoris + RSS (par exemple : https://www.lemonde.fr/rss/)\n",
    "- Aller dans le DOM de la page \n",
    "- Trouver les catégories et les liens vers les articles"
   ]
  },
  {
   "cell_type": "code",
   "execution_count": 24,
   "metadata": {},
   "outputs": [],
   "source": [
    "import requests\n",
    "from bs4 import BeautifulSoup\n",
    "import xml.etree.ElementTree as ET\n",
    "from urllib.parse import urlparse\n",
    "\n",
    "class RSSNewsScraper:\n",
    "    def __init__(self, rss_url):\n",
    "        self.rss_url = rss_url\n",
    "    \n",
    "    def fetch_rss_feed(self):\n",
    "        \"\"\"\n",
    "        Récupère le contenu XML du flux RSS.\n",
    "        \"\"\"\n",
    "        try:\n",
    "            response = requests.get(self.rss_url)\n",
    "            response.raise_for_status()\n",
    "            return response.content\n",
    "        except requests.exceptions.RequestException as e:\n",
    "            print(f\"Erreur lors de la récupération du flux RSS : {e}\")\n",
    "            return None\n",
    "    \n",
    "    def parse_rss_feed(self, rss_content):\n",
    "        \"\"\"\n",
    "        Analyse le flux RSS et extrait les articles.\n",
    "        \"\"\"\n",
    "        root = ET.fromstring(rss_content)\n",
    "        articles = []\n",
    "\n",
    "        for item in root.findall(\".//item\"):\n",
    "            title = item.find(\"title\").text\n",
    "            link = item.find(\"link\").text\n",
    "            description = item.find(\"description\").text if item.find(\"description\") is not None else \"\"\n",
    "            category = item.find(\"category\").text if item.find(\"category\") is not None else \"Non catégorisé\"\n",
    "            \n",
    "            articles.append({\n",
    "                \"title\": title,\n",
    "                \"url\": link,\n",
    "                \"description\": description,\n",
    "                \"category\": category,\n",
    "                \"domain\": urlparse(link).netloc\n",
    "            })\n",
    "        \n",
    "        return articles\n",
    "    \n",
    "    def fetch_article_content(self, url):\n",
    "        \"\"\"\n",
    "        Récupère le contenu principal d'un article (texte principal et images).\n",
    "        \"\"\"\n",
    "        try:\n",
    "            response = requests.get(url, headers={\n",
    "                'User-Agent': 'Mozilla/5.0 (Windows NT 10.0; Win64; x64) AppleWebKit/537.36 (KHTML, like Gecko) Chrome/91.0.4472.124 Safari/537.36'\n",
    "            })\n",
    "            response.raise_for_status()\n",
    "            soup = BeautifulSoup(response.content, 'html.parser')\n",
    "\n",
    "            # Extraire le titre de la page\n",
    "            page_title = soup.title.string if soup.title else \"Titre non trouvé\"\n",
    "\n",
    "            # Extraire le texte principal\n",
    "            paragraphs = soup.find_all('p')\n",
    "            main_text = \" \".join([p.get_text(strip=True) for p in paragraphs])\n",
    "\n",
    "            # Extraire les images\n",
    "            images = [img['src'] for img in soup.find_all('img') if 'src' in img.attrs]\n",
    "\n",
    "            return {\n",
    "                \"page_title\": page_title,\n",
    "                \"main_text\": main_text,\n",
    "                \"images\": images\n",
    "            }\n",
    "        except requests.exceptions.RequestException as e:\n",
    "            print(f\"Erreur lors de la récupération de l'article : {e}\")\n",
    "            return None\n",
    "    \n",
    "    def scrape_news(self):\n",
    "        \"\"\"\n",
    "        Scrape les articles depuis le flux RSS et récupère les détails de chaque article.\n",
    "        \"\"\"\n",
    "        rss_content = self.fetch_rss_feed()\n",
    "        if not rss_content:\n",
    "            return None\n",
    "        \n",
    "        articles = self.parse_rss_feed(rss_content)\n",
    "        for article in articles:\n",
    "            article_content = self.fetch_article_content(article[\"url\"])\n",
    "            if article_content:\n",
    "                article.update(article_content)  # Ajouter les détails de l'article\n",
    "        return articles\n"
   ]
  },
  {
   "cell_type": "code",
   "execution_count": null,
   "metadata": {},
   "outputs": [
    {
     "ename": "ParseError",
     "evalue": "syntax error: line 1, column 0 (<string>)",
     "output_type": "error",
     "traceback": [
      "Traceback \u001b[1;36m(most recent call last)\u001b[0m:\n",
      "\u001b[0m  File \u001b[0;32mc:\\Users\\Rémi\\.virtualenvs\\DSIA_DataE-zgJdtTYd\\Lib\\site-packages\\IPython\\core\\interactiveshell.py:3577\u001b[0m in \u001b[0;35mrun_code\u001b[0m\n    exec(code_obj, self.user_global_ns, self.user_ns)\u001b[0m\n",
      "\u001b[0m  Cell \u001b[0;32mIn[28], line 6\u001b[0m\n    articles = scraper.scrape_news()\u001b[0m\n",
      "\u001b[0m  Cell \u001b[0;32mIn[24], line 83\u001b[0m in \u001b[0;35mscrape_news\u001b[0m\n    articles = self.parse_rss_feed(rss_content)\u001b[0m\n",
      "\u001b[0m  Cell \u001b[0;32mIn[24], line 26\u001b[0m in \u001b[0;35mparse_rss_feed\u001b[0m\n    root = ET.fromstring(rss_content)\u001b[0m\n",
      "\u001b[1;36m  File \u001b[1;32m~\\AppData\\Local\\Programs\\Python\\Python312\\Lib\\xml\\etree\\ElementTree.py:1335\u001b[1;36m in \u001b[1;35mXML\u001b[1;36m\n\u001b[1;33m    parser.feed(text)\u001b[1;36m\n",
      "\u001b[1;36m  File \u001b[1;32m<string>\u001b[1;36m\u001b[0m\n\u001b[1;31mParseError\u001b[0m\u001b[1;31m:\u001b[0m syntax error: line 1, column 0\n"
     ]
    }
   ],
   "source": [
    "# Exemple avec un flux RSS\n",
    "rss_url = \"https://www.lemonde.fr/rss/en_continu.xml\"\n",
    "scraper = RSSNewsScraper(rss_url)\n",
    "\n",
    "# Récupérer les articles\n",
    "articles = scraper.scrape_news()\n",
    "\n",
    "# Afficher les articles\n",
    "if articles:\n",
    "    for i, article in enumerate(articles, 1):\n",
    "        print(f\"Article {i}:\")\n",
    "        print(f\"  Titre : {article['title']}\")\n",
    "        print(f\"  URL : {article['url']}\")\n",
    "        print(f\"  Domaine : {article['domain']}\")\n",
    "        print(f\"  Catégorie : {article['category']}\")\n",
    "        print(f\"  Titre de la page : {article['page_title']}\")\n",
    "        print(f\"  Contenu principal : {article['main_text'][:200]}...\")  # Limité à 200 caractères\n",
    "        print(f\"  Images : {article['images']}\\n\")\n",
    "else:\n",
    "    print(\"Aucun article trouvé.\")\n"
   ]
  },
  {
   "cell_type": "code",
   "execution_count": 29,
   "metadata": {},
   "outputs": [],
   "source": [
    "import requests\n",
    "from bs4 import BeautifulSoup\n",
    "import xml.etree.ElementTree as ET\n",
    "from urllib.parse import urlparse\n",
    "\n",
    "class MediapartRSSScraper:\n",
    "    def __init__(self, rss_url):\n",
    "        self.rss_url = rss_url\n",
    "    \n",
    "    def fetch_rss_feed(self):\n",
    "        \"\"\"\n",
    "        Récupère le contenu XML du flux RSS.\n",
    "        \"\"\"\n",
    "        try:\n",
    "            response = requests.get(self.rss_url)\n",
    "            response.raise_for_status()\n",
    "            return response.content\n",
    "        except requests.exceptions.RequestException as e:\n",
    "            print(f\"Erreur lors de la récupération du flux RSS : {e}\")\n",
    "            return None\n",
    "    \n",
    "    def parse_rss_feed(self, rss_content):\n",
    "        \"\"\"\n",
    "        Analyse le flux RSS et extrait les articles.\n",
    "        \"\"\"\n",
    "        root = ET.fromstring(rss_content)\n",
    "        articles = []\n",
    "\n",
    "        for item in root.findall(\".//item\"):\n",
    "            title = item.find(\"title\").text\n",
    "            link = item.find(\"link\").text\n",
    "            description = item.find(\"description\").text if item.find(\"description\") is not None else \"\"\n",
    "            category = item.find(\"category\").text if item.find(\"category\") is not None else \"Non catégorisé\"\n",
    "            \n",
    "            articles.append({\n",
    "                \"title\": title,\n",
    "                \"url\": link,\n",
    "                \"description\": description,\n",
    "                \"category\": category,\n",
    "                \"domain\": urlparse(link).netloc\n",
    "            })\n",
    "        \n",
    "        return articles\n",
    "    \n",
    "    def fetch_article_content(self, url):\n",
    "        \"\"\"\n",
    "        Récupère le contenu principal d'un article (texte principal et images).\n",
    "        \"\"\"\n",
    "        try:\n",
    "            response = requests.get(url, headers={\n",
    "                'User-Agent': 'Mozilla/5.0 (Windows NT 10.0; Win64; x64) AppleWebKit/537.36 (KHTML, like Gecko) Chrome/91.0.4472.124 Safari/537.36'\n",
    "            })\n",
    "            response.raise_for_status()\n",
    "            soup = BeautifulSoup(response.content, 'html.parser')\n",
    "\n",
    "            # Extraire le titre de la page\n",
    "            page_title = soup.title.string if soup.title else \"Titre non trouvé\"\n",
    "\n",
    "            # Extraire le texte principal\n",
    "            paragraphs = soup.find_all('p')\n",
    "            main_text = \" \".join([p.get_text(strip=True) for p in paragraphs])\n",
    "\n",
    "            # Extraire les images\n",
    "            images = [img['src'] for img in soup.find_all('img') if 'src' in img.attrs]\n",
    "\n",
    "            return {\n",
    "                \"page_title\": page_title,\n",
    "                \"main_text\": main_text,\n",
    "                \"images\": images\n",
    "            }\n",
    "        except requests.exceptions.RequestException as e:\n",
    "            print(f\"Erreur lors de la récupération de l'article : {e}\")\n",
    "            return None\n",
    "    \n",
    "    def scrape_news(self):\n",
    "        \"\"\"\n",
    "        Scrape les articles depuis le flux RSS et récupère les détails de chaque article.\n",
    "        \"\"\"\n",
    "        rss_content = self.fetch_rss_feed()\n",
    "        if not rss_content:\n",
    "            return None\n",
    "        \n",
    "        articles = self.parse_rss_feed(rss_content)\n",
    "        for article in articles:\n",
    "            article_content = self.fetch_article_content(article[\"url\"])\n",
    "            if article_content:\n",
    "                article.update(article_content)  # Ajouter les détails de l'article\n",
    "        return articles\n"
   ]
  },
  {
   "cell_type": "code",
   "execution_count": 30,
   "metadata": {},
   "outputs": [
    {
     "name": "stdout",
     "output_type": "stream",
     "text": [
      "Article 1:\n",
      "  Titre : Au procès de la rue d’Aubagne, les familles redonnent vie aux disparus des effondrements\n",
      "  URL : https://www.mediapart.fr/journal/france/191124/au-proces-de-la-rue-d-aubagne-les-familles-redonnent-vie-aux-disparus-des-effondrements\n",
      "  Domaine : www.mediapart.fr\n",
      "  Catégorie : France\n",
      "  Titre de la page : Au procès de la rue d’Aubagne, les familles redonnent vie aux disparus des effondrements | Mediapart\n",
      "  Contenu principal : Mardi 19 novembre Édition de la mi-journée Newsletters Découvrez notre offre de newsletters L’application Mediapart Découvrez notre application pour mobile & tablette Justice Après les experts, le tri...\n",
      "  Images : ['https://www.mediapart.fr/assets/build/default/front/nouvelle_formule/images/banner/112x112/banner_newsletter.2df2b340b2fdba47.png', 'https://www.mediapart.fr/assets/build/default/front/nouvelle_formule/images/banner/112x112/banner_mobile.e8ae17b0e8f4f68d.jpg', 'https://www.mediapart.fr/assets/build/default/front/nouvelle_formule/images/mkt_banner/newsletter.651a96c540efcc36.png', 'https://static.mediapart.fr/etmagine/default/files/2024/11/18/241118-img-rashid-khalidi-1.jpg', 'https://static.mediapart.fr/etmagine/default/files/2024/11/14/000-36lq7cj.jpg', 'https://static.mediapart.fr/etmagine/default/files/2024/11/11/241111-img-legalisation-des-drogues-l-isolement-et-l-aveuglement-de-la-france-1.jpg', 'https://static.mediapart.fr/etmagine/default/files/2024/11/08/20241111-img-truffaut-deperit-et-ses-salaries-fuient.jpg', 'https://static.mediapart.fr/etmagine/default/files/2024/10/28/241028-img-cisjordanie-les-colons-imposent-la-terreur.jpg', 'https://static.mediapart.fr/etmagine/default/files/2024/11/18/all-241119.png', 'https://static.mediapart.fr/etmagine/default/files/2024/03/07/00-abonnezvous-matin-16-9.png', 'https://static.mediapart.fr/etmagine/default/files/2024/11/15/maxresdefault-1.jpg', 'https://static.mediapart.fr/etmagine/default/files/2024/11/09/capture-d-e-cran-2024-11-09-a-16-42-41.jpg', 'https://www.mediapart.fr/assets/build/default/front/nouvelle_formule/maspero/images/common/google-play-badge.ce52eed8ab317912.png', 'https://www.mediapart.fr/assets/build/default/front/nouvelle_formule/maspero/images/common/app-store-badge.cd7a41b42ca6c1a6.png', 'data:image/gif;base64,R0lGODlhAQABAIAAAAAAAP///yH5BAEAAAAALAAAAAABAAEAAAIBRAA7']\n",
      "\n",
      "Article 2:\n",
      "  Titre : La justice enquête sur des détournements au sein de l’association de l’Inspection des finances\n",
      "  URL : https://www.mediapart.fr/journal/france/191124/la-justice-enquete-sur-des-detournements-au-sein-de-l-association-de-l-inspection-des-finances\n",
      "  Domaine : www.mediapart.fr\n",
      "  Catégorie : France\n",
      "  Titre de la page : La justice enquête sur des détournements au sein de l’association de l’Inspection des finances | Mediapart\n",
      "  Contenu principal : Mardi 19 novembre Édition de la mi-journée Newsletters Découvrez notre offre de newsletters L’application Mediapart Découvrez notre application pour mobile & tablette Déjà abonné ?Se connecter Envie d...\n",
      "  Images : ['https://www.mediapart.fr/assets/build/default/front/nouvelle_formule/images/banner/112x112/banner_newsletter.2df2b340b2fdba47.png', 'https://www.mediapart.fr/assets/build/default/front/nouvelle_formule/images/banner/112x112/banner_mobile.e8ae17b0e8f4f68d.jpg', 'https://www.mediapart.fr/assets/build/default/front/nouvelle_formule/images/mkt_banner/no-abo-1.ff9173fffe426426.png', 'https://www.mediapart.fr/assets/build/default/front/nouvelle_formule/images/mkt_banner/newsletter.651a96c540efcc36.png', 'https://static.mediapart.fr/etmagine/default/files/2024/11/18/241118-img-rashid-khalidi-1.jpg', 'https://static.mediapart.fr/etmagine/default/files/2024/11/14/000-36lq7cj.jpg', 'https://static.mediapart.fr/etmagine/default/files/2024/11/11/241111-img-legalisation-des-drogues-l-isolement-et-l-aveuglement-de-la-france-1.jpg', 'https://static.mediapart.fr/etmagine/default/files/2024/11/08/20241111-img-truffaut-deperit-et-ses-salaries-fuient.jpg', 'https://static.mediapart.fr/etmagine/default/files/2024/10/28/241028-img-cisjordanie-les-colons-imposent-la-terreur.jpg', 'https://static.mediapart.fr/etmagine/default/files/2024/11/18/all-241119.png', 'https://static.mediapart.fr/etmagine/default/files/2024/03/07/00-abonnezvous-matin-16-9.png', 'https://static.mediapart.fr/etmagine/default/files/2024/11/15/maxresdefault-1.jpg', 'https://static.mediapart.fr/etmagine/default/files/2024/11/09/capture-d-e-cran-2024-11-09-a-16-42-41.jpg', 'https://www.mediapart.fr/assets/build/default/front/nouvelle_formule/maspero/images/common/google-play-badge.ce52eed8ab317912.png', 'https://www.mediapart.fr/assets/build/default/front/nouvelle_formule/maspero/images/common/app-store-badge.cd7a41b42ca6c1a6.png', 'data:image/gif;base64,R0lGODlhAQABAIAAAAAAAP///yH5BAEAAAAALAAAAAABAAEAAAIBRAA7']\n",
      "\n",
      "Article 3:\n",
      "  Titre : Rashid Khalidi, sur Gaza: «Il est difficile d’imaginer ce que Trump pourrait faire de pire que Biden et Harris»\n",
      "  URL : https://www.mediapart.fr/journal/culture-et-idees/191124/rashid-khalidi-sur-gaza-il-est-difficile-d-imaginer-ce-que-trump-pourrait-faire-de-pire-que-bide\n",
      "  Domaine : www.mediapart.fr\n",
      "  Catégorie : Culture et idées\n",
      "  Titre de la page : Rashid Khalidi, sur Gaza : « Il est difficile d’imaginer ce que Trump pourrait faire de pire que Biden et Harris » | Mediapart\n",
      "  Contenu principal : Mardi 19 novembre Édition de la mi-journée Newsletters Découvrez notre offre de newsletters L’application Mediapart Découvrez notre application pour mobile & tablette IdéesEntretien L’historien Rashid...\n",
      "  Images : ['https://www.mediapart.fr/assets/build/default/front/nouvelle_formule/images/banner/112x112/banner_newsletter.2df2b340b2fdba47.png', 'https://www.mediapart.fr/assets/build/default/front/nouvelle_formule/images/banner/112x112/banner_mobile.e8ae17b0e8f4f68d.jpg', 'https://www.mediapart.fr/assets/build/default/front/nouvelle_formule/images/mkt_banner/newsletter.651a96c540efcc36.png', 'https://static.mediapart.fr/etmagine/default/files/2024/11/19/241119-img-au-proces-de-la-rue-d-aubagne-les-familles-redonnent-vie-aux-disparus-des-effondrements.jpg', 'https://static.mediapart.fr/etmagine/default/files/2024/11/14/000-36lq7cj.jpg', 'https://static.mediapart.fr/etmagine/default/files/2024/11/11/241111-img-legalisation-des-drogues-l-isolement-et-l-aveuglement-de-la-france-1.jpg', 'https://static.mediapart.fr/etmagine/default/files/2024/11/08/20241111-img-truffaut-deperit-et-ses-salaries-fuient.jpg', 'https://static.mediapart.fr/etmagine/default/files/2024/10/28/241028-img-cisjordanie-les-colons-imposent-la-terreur.jpg', 'https://static.mediapart.fr/etmagine/default/files/2024/11/18/all-241119.png', 'https://static.mediapart.fr/etmagine/default/files/2024/03/07/00-abonnezvous-matin-16-9.png', 'https://static.mediapart.fr/etmagine/default/files/2024/11/15/maxresdefault-1.jpg', 'https://static.mediapart.fr/etmagine/default/files/2024/11/09/capture-d-e-cran-2024-11-09-a-16-42-41.jpg', 'https://www.mediapart.fr/assets/build/default/front/nouvelle_formule/maspero/images/common/google-play-badge.ce52eed8ab317912.png', 'https://www.mediapart.fr/assets/build/default/front/nouvelle_formule/maspero/images/common/app-store-badge.cd7a41b42ca6c1a6.png', 'data:image/gif;base64,R0lGODlhAQABAIAAAAAAAP///yH5BAEAAAAALAAAAAABAAEAAAIBRAA7']\n",
      "\n",
      "Article 4:\n",
      "  Titre : Cahiers de doléances de 2019: de l’impérieuse nécessité de leur publicité\n",
      "  URL : https://www.mediapart.fr/journal/politique/191124/cahiers-de-doleances-de-2019-de-l-imperieuse-necessite-de-leur-publicite\n",
      "  Domaine : www.mediapart.fr\n",
      "  Catégorie : Politique\n",
      "  Titre de la page : Cahiers de doléances de 2019 : de l’impérieuse nécessité de leur publicité | Mediapart\n",
      "  Contenu principal : Mardi 19 novembre Édition de la mi-journée Newsletters Découvrez notre offre de newsletters L’application Mediapart Découvrez notre application pour mobile & tablette Libertés publiquesParti pris Rend...\n",
      "  Images : ['https://www.mediapart.fr/assets/build/default/front/nouvelle_formule/images/banner/112x112/banner_newsletter.2df2b340b2fdba47.png', 'https://www.mediapart.fr/assets/build/default/front/nouvelle_formule/images/banner/112x112/banner_mobile.e8ae17b0e8f4f68d.jpg', 'https://www.mediapart.fr/assets/build/default/front/nouvelle_formule/images/mkt_banner/newsletter.651a96c540efcc36.png', 'https://static.mediapart.fr/etmagine/default/files/2024/11/18/241118-img-rashid-khalidi-1.jpg', 'https://static.mediapart.fr/etmagine/default/files/2024/11/14/000-36lq7cj.jpg', 'https://static.mediapart.fr/etmagine/default/files/2024/11/11/241111-img-legalisation-des-drogues-l-isolement-et-l-aveuglement-de-la-france-1.jpg', 'https://static.mediapart.fr/etmagine/default/files/2024/11/08/20241111-img-truffaut-deperit-et-ses-salaries-fuient.jpg', 'https://static.mediapart.fr/etmagine/default/files/2024/10/28/241028-img-cisjordanie-les-colons-imposent-la-terreur.jpg', 'https://static.mediapart.fr/etmagine/default/files/2024/11/18/all-241119.png', 'https://static.mediapart.fr/etmagine/default/files/2024/03/07/00-abonnezvous-matin-16-9.png', 'https://static.mediapart.fr/etmagine/default/files/2024/11/15/maxresdefault-1.jpg', 'https://static.mediapart.fr/etmagine/default/files/2024/11/09/capture-d-e-cran-2024-11-09-a-16-42-41.jpg', 'https://www.mediapart.fr/assets/build/default/front/nouvelle_formule/maspero/images/common/google-play-badge.ce52eed8ab317912.png', 'https://www.mediapart.fr/assets/build/default/front/nouvelle_formule/maspero/images/common/app-store-badge.cd7a41b42ca6c1a6.png', 'data:image/gif;base64,R0lGODlhAQABAIAAAAAAAP///yH5BAEAAAAALAAAAAABAAEAAAIBRAA7']\n",
      "\n",
      "Article 5:\n",
      "  Titre : «Il voulait juste traverser la Manche»: les proches de disparus d’un naufrage exigent des réponses\n",
      "  URL : https://www.mediapart.fr/journal/france/191124/il-voulait-juste-traverser-la-manche-les-proches-de-disparus-d-un-naufrage-exigent-des-reponses\n",
      "  Domaine : www.mediapart.fr\n",
      "  Catégorie : France\n",
      "  Titre de la page : « Il voulait juste traverser la Manche » : les proches de disparus d’un naufrage exigent des réponses | Mediapart\n",
      "  Contenu principal : Mardi 19 novembre Édition de la mi-journée Newsletters Découvrez notre offre de newsletters L’application Mediapart Découvrez notre application pour mobile & tablette MigrationsReportage Officiellemen...\n",
      "  Images : ['https://www.mediapart.fr/assets/build/default/front/nouvelle_formule/images/banner/112x112/banner_newsletter.2df2b340b2fdba47.png', 'https://www.mediapart.fr/assets/build/default/front/nouvelle_formule/images/banner/112x112/banner_mobile.e8ae17b0e8f4f68d.jpg', 'https://www.mediapart.fr/assets/build/default/front/nouvelle_formule/images/mkt_banner/newsletter.651a96c540efcc36.png', 'https://static.mediapart.fr/etmagine/default/files/2024/11/18/241118-img-rashid-khalidi-1.jpg', 'https://static.mediapart.fr/etmagine/default/files/2024/11/14/000-36lq7cj.jpg', 'https://static.mediapart.fr/etmagine/default/files/2024/11/11/241111-img-legalisation-des-drogues-l-isolement-et-l-aveuglement-de-la-france-1.jpg', 'https://static.mediapart.fr/etmagine/default/files/2024/11/08/20241111-img-truffaut-deperit-et-ses-salaries-fuient.jpg', 'https://static.mediapart.fr/etmagine/default/files/2024/10/28/241028-img-cisjordanie-les-colons-imposent-la-terreur.jpg', 'https://static.mediapart.fr/etmagine/default/files/2024/11/18/all-241119.png', 'https://static.mediapart.fr/etmagine/default/files/2024/03/07/00-abonnezvous-matin-16-9.png', 'https://static.mediapart.fr/etmagine/default/files/2024/11/15/maxresdefault-1.jpg', 'https://static.mediapart.fr/etmagine/default/files/2024/11/09/capture-d-e-cran-2024-11-09-a-16-42-41.jpg', 'https://www.mediapart.fr/assets/build/default/front/nouvelle_formule/maspero/images/common/google-play-badge.ce52eed8ab317912.png', 'https://www.mediapart.fr/assets/build/default/front/nouvelle_formule/maspero/images/common/app-store-badge.cd7a41b42ca6c1a6.png', 'data:image/gif;base64,R0lGODlhAQABAIAAAAAAAP///yH5BAEAAAAALAAAAAABAAEAAAIBRAA7']\n",
      "\n",
      "Article 6:\n",
      "  Titre : Les États-Unis autorisent finalement Kyiv à frapper la Russie avec leurs armes\n",
      "  URL : https://www.mediapart.fr/journal/international/181124/les-etats-unis-autorisent-finalement-kyiv-frapper-la-russie-avec-leurs-armes\n",
      "  Domaine : www.mediapart.fr\n",
      "  Catégorie : La guerre russe contre l’Ukraine\n",
      "  Titre de la page : Les États-Unis autorisent finalement Kyiv à frapper la Russie avec leurs armes | Mediapart\n",
      "  Contenu principal : Mardi 19 novembre Édition de la mi-journée Newsletters Découvrez notre offre de newsletters L’application Mediapart Découvrez notre application pour mobile & tablette Déjà abonné ?Se connecter Envie d...\n",
      "  Images : ['https://www.mediapart.fr/assets/build/default/front/nouvelle_formule/images/banner/112x112/banner_newsletter.2df2b340b2fdba47.png', 'https://www.mediapart.fr/assets/build/default/front/nouvelle_formule/images/banner/112x112/banner_mobile.e8ae17b0e8f4f68d.jpg', 'https://www.mediapart.fr/assets/build/default/front/nouvelle_formule/images/mkt_banner/no-abo-1.ff9173fffe426426.png', 'https://www.mediapart.fr/assets/build/default/front/nouvelle_formule/images/mkt_banner/newsletter.651a96c540efcc36.png', 'https://static.mediapart.fr/etmagine/default/files/2024/11/18/241118-img-rashid-khalidi-1.jpg', 'https://static.mediapart.fr/etmagine/default/files/2024/11/14/000-36lq7cj.jpg', 'https://static.mediapart.fr/etmagine/default/files/2024/11/11/241111-img-legalisation-des-drogues-l-isolement-et-l-aveuglement-de-la-france-1.jpg', 'https://static.mediapart.fr/etmagine/default/files/2024/11/08/20241111-img-truffaut-deperit-et-ses-salaries-fuient.jpg', 'https://static.mediapart.fr/etmagine/default/files/2024/10/28/241028-img-cisjordanie-les-colons-imposent-la-terreur.jpg', 'https://static.mediapart.fr/etmagine/default/files/2024/11/18/all-241119.png', 'https://static.mediapart.fr/etmagine/default/files/2024/03/07/00-abonnezvous-matin-16-9.png', 'https://static.mediapart.fr/etmagine/default/files/2024/11/15/maxresdefault-1.jpg', 'https://static.mediapart.fr/etmagine/default/files/2024/11/09/capture-d-e-cran-2024-11-09-a-16-42-41.jpg', 'https://www.mediapart.fr/assets/build/default/front/nouvelle_formule/maspero/images/common/google-play-badge.ce52eed8ab317912.png', 'https://www.mediapart.fr/assets/build/default/front/nouvelle_formule/maspero/images/common/app-store-badge.cd7a41b42ca6c1a6.png', 'data:image/gif;base64,R0lGODlhAQABAIAAAAAAAP///yH5BAEAAAAALAAAAAABAAEAAAIBRAA7']\n",
      "\n",
      "Article 7:\n",
      "  Titre : «Il m’a dit qu’il devait le filmer seulement»: les collégiens ayant désigné Samuel Paty au tueur témoignent\n",
      "  URL : https://www.mediapart.fr/journal/france/181124/il-m-dit-qu-il-devait-le-filmer-seulement-les-collegiens-ayant-designe-samuel-paty-au-tueur-temoignent\n",
      "  Domaine : www.mediapart.fr\n",
      "  Catégorie : France\n",
      "  Titre de la page : « Il m’a dit qu’il devait le filmer seulement » : les collégiens ayant désigné Samuel Paty au tueur témoignent | Mediapart\n",
      "  Contenu principal : Mardi 19 novembre Édition de la mi-journée Newsletters Découvrez notre offre de newsletters L’application Mediapart Découvrez notre application pour mobile & tablette Terrorisme Il y a quatre ans, plu...\n",
      "  Images : ['https://www.mediapart.fr/assets/build/default/front/nouvelle_formule/images/banner/112x112/banner_newsletter.2df2b340b2fdba47.png', 'https://www.mediapart.fr/assets/build/default/front/nouvelle_formule/images/banner/112x112/banner_mobile.e8ae17b0e8f4f68d.jpg', 'https://www.mediapart.fr/assets/build/default/front/nouvelle_formule/images/mkt_banner/newsletter.651a96c540efcc36.png', 'https://static.mediapart.fr/etmagine/default/files/2024/11/18/241118-img-rashid-khalidi-1.jpg', 'https://static.mediapart.fr/etmagine/default/files/2024/11/14/000-36lq7cj.jpg', 'https://static.mediapart.fr/etmagine/default/files/2024/11/11/241111-img-legalisation-des-drogues-l-isolement-et-l-aveuglement-de-la-france-1.jpg', 'https://static.mediapart.fr/etmagine/default/files/2024/11/08/20241111-img-truffaut-deperit-et-ses-salaries-fuient.jpg', 'https://static.mediapart.fr/etmagine/default/files/2024/10/28/241028-img-cisjordanie-les-colons-imposent-la-terreur.jpg', 'https://static.mediapart.fr/etmagine/default/files/2024/11/18/all-241119.png', 'https://static.mediapart.fr/etmagine/default/files/2024/03/07/00-abonnezvous-matin-16-9.png', 'https://static.mediapart.fr/etmagine/default/files/2024/11/15/maxresdefault-1.jpg', 'https://static.mediapart.fr/etmagine/default/files/2024/11/09/capture-d-e-cran-2024-11-09-a-16-42-41.jpg', 'https://www.mediapart.fr/assets/build/default/front/nouvelle_formule/maspero/images/common/google-play-badge.ce52eed8ab317912.png', 'https://www.mediapart.fr/assets/build/default/front/nouvelle_formule/maspero/images/common/app-store-badge.cd7a41b42ca6c1a6.png', 'data:image/gif;base64,R0lGODlhAQABAIAAAAAAAP///yH5BAEAAAAALAAAAAABAAEAAAIBRAA7']\n",
      "\n",
      "Article 8:\n",
      "  Titre : À Amiens, les agriculteurs contre un accord dans lequel «on ne joue pas à armes égales»\n",
      "  URL : https://www.mediapart.fr/journal/france/181124/amiens-les-agriculteurs-contre-un-accord-dans-lequel-ne-joue-pas-armes-egales\n",
      "  Domaine : www.mediapart.fr\n",
      "  Catégorie : France\n",
      "  Titre de la page : À Amiens, les agriculteurs contre un accord dans lequel « on ne joue pas à armes égales » | Mediapart\n",
      "  Contenu principal : Mardi 19 novembre Édition de la mi-journée Newsletters Découvrez notre offre de newsletters L’application Mediapart Découvrez notre application pour mobile & tablette Agriculture et alimentationReport...\n",
      "  Images : ['https://www.mediapart.fr/assets/build/default/front/nouvelle_formule/images/banner/112x112/banner_newsletter.2df2b340b2fdba47.png', 'https://www.mediapart.fr/assets/build/default/front/nouvelle_formule/images/banner/112x112/banner_mobile.e8ae17b0e8f4f68d.jpg', 'https://www.mediapart.fr/assets/build/default/front/nouvelle_formule/images/mkt_banner/newsletter.651a96c540efcc36.png', 'https://static.mediapart.fr/etmagine/default/files/2024/11/18/241118-img-rashid-khalidi-1.jpg', 'https://static.mediapart.fr/etmagine/default/files/2024/11/14/000-36lq7cj.jpg', 'https://static.mediapart.fr/etmagine/default/files/2024/11/11/241111-img-legalisation-des-drogues-l-isolement-et-l-aveuglement-de-la-france-1.jpg', 'https://static.mediapart.fr/etmagine/default/files/2024/11/08/20241111-img-truffaut-deperit-et-ses-salaries-fuient.jpg', 'https://static.mediapart.fr/etmagine/default/files/2024/10/28/241028-img-cisjordanie-les-colons-imposent-la-terreur.jpg', 'https://static.mediapart.fr/etmagine/default/files/2024/11/18/all-241119.png', 'https://static.mediapart.fr/etmagine/default/files/2024/03/07/00-abonnezvous-matin-16-9.png', 'https://static.mediapart.fr/etmagine/default/files/2024/11/15/maxresdefault-1.jpg', 'https://static.mediapart.fr/etmagine/default/files/2024/11/09/capture-d-e-cran-2024-11-09-a-16-42-41.jpg', 'https://www.mediapart.fr/assets/build/default/front/nouvelle_formule/maspero/images/common/google-play-badge.ce52eed8ab317912.png', 'https://www.mediapart.fr/assets/build/default/front/nouvelle_formule/maspero/images/common/app-store-badge.cd7a41b42ca6c1a6.png', 'data:image/gif;base64,R0lGODlhAQABAIAAAAAAAP///yH5BAEAAAAALAAAAAABAAEAAAIBRAA7']\n",
      "\n",
      "Article 9:\n",
      "  Titre : «Le maire ne reculera pas? Nous non plus»: Florian Vertriest, le Roubaisien qui résiste aux démolitions\n",
      "  URL : https://www.mediapart.fr/journal/france/181124/le-maire-ne-reculera-pas-nous-non-plus-florian-vertriest-le-roubaisien-qui-resiste-aux-demolitions\n",
      "  Domaine : www.mediapart.fr\n",
      "  Catégorie : France\n",
      "  Titre de la page : « Le maire ne reculera pas ? Nous non plus » : Florian Vertriest, le Roubaisien qui résiste aux démolitions | Mediapart\n",
      "  Contenu principal : Mardi 19 novembre Édition de la mi-journée Newsletters Découvrez notre offre de newsletters L’application Mediapart Découvrez notre application pour mobile & tablette Déjà abonné ?Se connecter Envie d...\n",
      "  Images : ['https://www.mediapart.fr/assets/build/default/front/nouvelle_formule/images/banner/112x112/banner_newsletter.2df2b340b2fdba47.png', 'https://www.mediapart.fr/assets/build/default/front/nouvelle_formule/images/banner/112x112/banner_mobile.e8ae17b0e8f4f68d.jpg', 'https://www.mediapart.fr/assets/build/default/front/nouvelle_formule/images/mkt_banner/no-abo-1.ff9173fffe426426.png', 'https://www.mediapart.fr/assets/build/default/front/nouvelle_formule/images/mkt_banner/newsletter.651a96c540efcc36.png', 'https://static.mediapart.fr/etmagine/default/files/2024/11/18/241118-img-rashid-khalidi-1.jpg', 'https://static.mediapart.fr/etmagine/default/files/2024/11/14/000-36lq7cj.jpg', 'https://static.mediapart.fr/etmagine/default/files/2024/11/11/241111-img-legalisation-des-drogues-l-isolement-et-l-aveuglement-de-la-france-1.jpg', 'https://static.mediapart.fr/etmagine/default/files/2024/11/08/20241111-img-truffaut-deperit-et-ses-salaries-fuient.jpg', 'https://static.mediapart.fr/etmagine/default/files/2024/10/28/241028-img-cisjordanie-les-colons-imposent-la-terreur.jpg', 'https://static.mediapart.fr/etmagine/default/files/2024/11/18/all-241119.png', 'https://static.mediapart.fr/etmagine/default/files/2024/03/07/00-abonnezvous-matin-16-9.png', 'https://static.mediapart.fr/etmagine/default/files/2024/11/15/maxresdefault-1.jpg', 'https://static.mediapart.fr/etmagine/default/files/2024/11/09/capture-d-e-cran-2024-11-09-a-16-42-41.jpg', 'https://www.mediapart.fr/assets/build/default/front/nouvelle_formule/maspero/images/common/google-play-badge.ce52eed8ab317912.png', 'https://www.mediapart.fr/assets/build/default/front/nouvelle_formule/maspero/images/common/app-store-badge.cd7a41b42ca6c1a6.png', 'data:image/gif;base64,R0lGODlhAQABAIAAAAAAAP///yH5BAEAAAAALAAAAAABAAEAAAIBRAA7']\n",
      "\n",
      "Article 10:\n",
      "  Titre : Face au chaos climatique, «il faut faire le deuil d’une architecture déconnectée de la nature»\n",
      "  URL : https://www.mediapart.fr/journal/ecologie/181124/face-au-chaos-climatique-il-faut-faire-le-deuil-d-une-architecture-deconnectee-de-la-nature\n",
      "  Domaine : www.mediapart.fr\n",
      "  Catégorie : Écologie\n",
      "  Titre de la page : Face au chaos climatique, « il faut faire le deuil d’une architecture déconnectée de la nature » | Mediapart\n",
      "  Contenu principal : Mardi 19 novembre Édition de la mi-journée Newsletters Découvrez notre offre de newsletters L’application Mediapart Découvrez notre application pour mobile & tablette HabitatEntretien Avec ses cycles ...\n",
      "  Images : ['https://www.mediapart.fr/assets/build/default/front/nouvelle_formule/images/banner/112x112/banner_newsletter.2df2b340b2fdba47.png', 'https://www.mediapart.fr/assets/build/default/front/nouvelle_formule/images/banner/112x112/banner_mobile.e8ae17b0e8f4f68d.jpg', 'https://www.mediapart.fr/assets/build/default/front/nouvelle_formule/images/mkt_banner/newsletter.651a96c540efcc36.png', 'https://static.mediapart.fr/etmagine/default/files/2024/11/18/241118-img-rashid-khalidi-1.jpg', 'https://static.mediapart.fr/etmagine/default/files/2024/11/14/000-36lq7cj.jpg', 'https://static.mediapart.fr/etmagine/default/files/2024/11/11/241111-img-legalisation-des-drogues-l-isolement-et-l-aveuglement-de-la-france-1.jpg', 'https://static.mediapart.fr/etmagine/default/files/2024/11/08/20241111-img-truffaut-deperit-et-ses-salaries-fuient.jpg', 'https://static.mediapart.fr/etmagine/default/files/2024/10/28/241028-img-cisjordanie-les-colons-imposent-la-terreur.jpg', 'https://static.mediapart.fr/etmagine/default/files/2024/11/18/all-241119.png', 'https://static.mediapart.fr/etmagine/default/files/2024/03/07/00-abonnezvous-matin-16-9.png', 'https://static.mediapart.fr/etmagine/default/files/2024/11/15/maxresdefault-1.jpg', 'https://static.mediapart.fr/etmagine/default/files/2024/11/09/capture-d-e-cran-2024-11-09-a-16-42-41.jpg', 'https://www.mediapart.fr/assets/build/default/front/nouvelle_formule/maspero/images/common/google-play-badge.ce52eed8ab317912.png', 'https://www.mediapart.fr/assets/build/default/front/nouvelle_formule/maspero/images/common/app-store-badge.cd7a41b42ca6c1a6.png', 'data:image/gif;base64,R0lGODlhAQABAIAAAAAAAP///yH5BAEAAAAALAAAAAABAAEAAAIBRAA7']\n",
      "\n"
     ]
    }
   ],
   "source": [
    "# URL du flux RSS de Mediapart\n",
    "rss_url = \"https://www.mediapart.fr/articles/feed\"\n",
    "scraper = MediapartRSSScraper(rss_url)\n",
    "\n",
    "# Récupérer les articles\n",
    "articles = scraper.scrape_news()\n",
    "\n",
    "# Afficher les articles\n",
    "if articles:\n",
    "    for i, article in enumerate(articles, 1):\n",
    "        print(f\"Article {i}:\")\n",
    "        print(f\"  Titre : {article['title']}\")\n",
    "        print(f\"  URL : {article['url']}\")\n",
    "        print(f\"  Domaine : {article['domain']}\")\n",
    "        print(f\"  Catégorie : {article['category']}\")\n",
    "        print(f\"  Titre de la page : {article['page_title']}\")\n",
    "        print(f\"  Contenu principal : {article['main_text'][:200]}...\")  # Limité à 200 caractères\n",
    "        print(f\"  Images : {article['images']}\\n\")\n",
    "else:\n",
    "    print(\"Aucun article trouvé.\")\n"
   ]
  }
 ],
 "metadata": {
  "kernelspec": {
   "display_name": "DSIA_DataE-zgJdtTYd",
   "language": "python",
   "name": "python3"
  },
  "language_info": {
   "codemirror_mode": {
    "name": "ipython",
    "version": 3
   },
   "file_extension": ".py",
   "mimetype": "text/x-python",
   "name": "python",
   "nbconvert_exporter": "python",
   "pygments_lexer": "ipython3",
   "version": "3.12.6"
  }
 },
 "nbformat": 4,
 "nbformat_minor": 2
}
