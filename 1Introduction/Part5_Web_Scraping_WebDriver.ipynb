{
 "cells": [
  {
   "cell_type": "markdown",
   "metadata": {},
   "source": [
    "# Introduction"
   ]
  },
  {
   "cell_type": "markdown",
   "metadata": {},
   "source": [
    "Aujourd'hui la plupart des sites web utilisent du JavaScript pour rendre le site plus dynamique et agréable, mais aussi pour afficher la donnée. \n",
    "\n",
    "Pour ces sites, la première méthode abordée n'est pas efficace, car de nombreuses requêtes sont utilisées pour se connecter, afficher la donnée, naviguer, il faudrait prendre en compte toutes ces requêtes et les assembler pour simuler le comportement du site. \n",
    "\n",
    "**C'est le comportement de votre navigateur**, il compile toutes les interactions, les requêtes et génère du HTML permettant d'afficher l'interface graphique d'un site web.\n",
    "\n",
    "Pour palier ce problème, on peut laisser le navigateur faire son travail et contrôler sa surcouche logicielle. Pour cela, on peut prendre le contrôle d'un navigateur comme Chrome, Edge, Firefox ou Safari depuis un script Python. \n",
    "\n",
    "Pour cela, nous allons utiliser un package Python `Selenium` https://selenium-python.readthedocs.io/ qui permet d'instancier un navigateur et de le contrôler. Sélénium est beaucoup utilisé pour générer des tests automatiques de sites web. \n",
    "\n",
    "On peut trouver les drivers des différents browser : \n",
    "- Chrome:\thttps://googlechromelabs.github.io/chrome-for-testing/#stable (bien télécharger le \"chromedriver\" et non pas chrome)\n",
    "- Firefox:\thttps://github.com/mozilla/geckodriver/releases\n",
    "- Safari:\thttps://webkit.org/blog/6900/webdriver-support-in-safari-10/"
   ]
  },
  {
   "cell_type": "markdown",
   "metadata": {},
   "source": [
    "**Depuis les dernières versions de Selenium, il n'est plus néccessaires de télécharger les driver des browsers car Selenium les manage**"
   ]
  },
  {
   "cell_type": "code",
   "execution_count": 1,
   "metadata": {
    "ExecuteTime": {
     "end_time": "2024-10-07T20:20:49.439215Z",
     "start_time": "2024-10-07T20:20:49.436763Z"
    }
   },
   "outputs": [],
   "source": [
    "from selenium import webdriver\n"
   ]
  },
  {
   "cell_type": "code",
   "execution_count": 2,
   "metadata": {
    "ExecuteTime": {
     "end_time": "2024-10-07T20:20:50.364966Z",
     "start_time": "2024-10-07T20:20:49.707577Z"
    }
   },
   "outputs": [],
   "source": [
    "chrome = webdriver.Chrome()"
   ]
  },
  {
   "cell_type": "markdown",
   "metadata": {},
   "source": [
    "Vous devez voir apparaître une nouvelle instance de votre navigateur.\n",
    "Chrome vous demande depuis peu de selectionner votre navigateur par défaut. Etant donné que notre but est de tout controller depuis notre code, on peut bypass cette demande en ajoutant des options au webdriver de Chrome"
   ]
  },
  {
   "cell_type": "code",
   "execution_count": 3,
   "metadata": {
    "ExecuteTime": {
     "end_time": "2024-10-07T20:20:56.232916Z",
     "start_time": "2024-10-07T20:20:55.301154Z"
    }
   },
   "outputs": [],
   "source": [
    "from selenium.webdriver.chrome.options import Options\n",
    "\n",
    "chrome_options = Options()\n",
    "chrome_options.add_argument(\"--disable-search-engine-choice-screen\")\n",
    "\n",
    "chrome = webdriver.Chrome(options=chrome_options)"
   ]
  },
  {
   "cell_type": "markdown",
   "metadata": {},
   "source": [
    "Maintenant, vous avez le controlle du navigateur depuis Python. Si vous voulez accéder à une page :"
   ]
  },
  {
   "cell_type": "code",
   "execution_count": 4,
   "metadata": {
    "ExecuteTime": {
     "end_time": "2024-10-07T20:21:03.242209Z",
     "start_time": "2024-10-07T20:21:02.495942Z"
    }
   },
   "outputs": [],
   "source": [
    "chrome.get(\"https://books.toscrape.com/\")"
   ]
  },
  {
   "cell_type": "markdown",
   "metadata": {},
   "source": [
    "Allez maintenant voir votre fenêtre. Vous êtes sur un faux site de vente de livre. Ce site est spécialement concu pour être scrapé et comprendre les bases, mais en réalité scraper un site est un peu plus complexe, comme vous allez vous en rendre compte dans la section 2 sur Scrapy.\n",
    "\n",
    "Vous pouvez maintenant vous déplacer dans la page. Pour cela, il va falloir inspecter le code source de la page.\n",
    "\n",
    "Il existe de nombreuse méthode pour récupérer les éléments par exemple `find_element` qui permet de récupérer un élément grâce au texte affiché. Ici, si on veut récupérer cliquer sur la section `Travel` pour récupérer les livres de voyages"
   ]
  },
  {
   "cell_type": "code",
   "execution_count": 5,
   "metadata": {
    "ExecuteTime": {
     "end_time": "2024-10-07T20:21:05.755116Z",
     "start_time": "2024-10-07T20:21:05.745587Z"
    }
   },
   "outputs": [
    {
     "data": {
      "text/plain": [
       "selenium.webdriver.remote.webelement.WebElement"
      ]
     },
     "execution_count": 5,
     "metadata": {},
     "output_type": "execute_result"
    }
   ],
   "source": [
    "from selenium.webdriver.common.by import By\n",
    "link = chrome.find_element(By.LINK_TEXT, \"Travel\")\n",
    "type(link)"
   ]
  },
  {
   "cell_type": "markdown",
   "metadata": {},
   "source": [
    "Si on veut entrer dans le lien, il suffit d'appeler la méthode `click`."
   ]
  },
  {
   "cell_type": "code",
   "execution_count": 6,
   "metadata": {
    "ExecuteTime": {
     "end_time": "2024-10-07T20:21:13.093751Z",
     "start_time": "2024-10-07T20:21:12.648032Z"
    }
   },
   "outputs": [],
   "source": [
    "link.click()"
   ]
  },
  {
   "cell_type": "markdown",
   "metadata": {},
   "source": [
    "Vous êtes arrivé sur la page des livres de voyage. Maintenant nous allons récupérer toutes les livres. On remarque que tous les livres ont une class HTML nommée `product_pod`."
   ]
  },
  {
   "cell_type": "code",
   "execution_count": 20,
   "metadata": {
    "ExecuteTime": {
     "end_time": "2024-10-07T20:23:04.672320Z",
     "start_time": "2024-10-07T20:23:04.660727Z"
    }
   },
   "outputs": [
    {
     "data": {
      "text/plain": [
       "[<selenium.webdriver.remote.webelement.WebElement (session=\"9d56e016ba0cfa2a071972ea58bea16c\", element=\"f.0A61D537C7434B2D123FC1958247C5D7.d.F0AAB6D761360B48FD77B461B8720A93.e.51\")>,\n",
       " <selenium.webdriver.remote.webelement.WebElement (session=\"9d56e016ba0cfa2a071972ea58bea16c\", element=\"f.0A61D537C7434B2D123FC1958247C5D7.d.F0AAB6D761360B48FD77B461B8720A93.e.53\")>,\n",
       " <selenium.webdriver.remote.webelement.WebElement (session=\"9d56e016ba0cfa2a071972ea58bea16c\", element=\"f.0A61D537C7434B2D123FC1958247C5D7.d.F0AAB6D761360B48FD77B461B8720A93.e.55\")>,\n",
       " <selenium.webdriver.remote.webelement.WebElement (session=\"9d56e016ba0cfa2a071972ea58bea16c\", element=\"f.0A61D537C7434B2D123FC1958247C5D7.d.F0AAB6D761360B48FD77B461B8720A93.e.70\")>,\n",
       " <selenium.webdriver.remote.webelement.WebElement (session=\"9d56e016ba0cfa2a071972ea58bea16c\", element=\"f.0A61D537C7434B2D123FC1958247C5D7.d.F0AAB6D761360B48FD77B461B8720A93.e.57\")>,\n",
       " <selenium.webdriver.remote.webelement.WebElement (session=\"9d56e016ba0cfa2a071972ea58bea16c\", element=\"f.0A61D537C7434B2D123FC1958247C5D7.d.F0AAB6D761360B48FD77B461B8720A93.e.59\")>,\n",
       " <selenium.webdriver.remote.webelement.WebElement (session=\"9d56e016ba0cfa2a071972ea58bea16c\", element=\"f.0A61D537C7434B2D123FC1958247C5D7.d.F0AAB6D761360B48FD77B461B8720A93.e.61\")>,\n",
       " <selenium.webdriver.remote.webelement.WebElement (session=\"9d56e016ba0cfa2a071972ea58bea16c\", element=\"f.0A61D537C7434B2D123FC1958247C5D7.d.F0AAB6D761360B48FD77B461B8720A93.e.71\")>,\n",
       " <selenium.webdriver.remote.webelement.WebElement (session=\"9d56e016ba0cfa2a071972ea58bea16c\", element=\"f.0A61D537C7434B2D123FC1958247C5D7.d.F0AAB6D761360B48FD77B461B8720A93.e.72\")>,\n",
       " <selenium.webdriver.remote.webelement.WebElement (session=\"9d56e016ba0cfa2a071972ea58bea16c\", element=\"f.0A61D537C7434B2D123FC1958247C5D7.d.F0AAB6D761360B48FD77B461B8720A93.e.73\")>,\n",
       " <selenium.webdriver.remote.webelement.WebElement (session=\"9d56e016ba0cfa2a071972ea58bea16c\", element=\"f.0A61D537C7434B2D123FC1958247C5D7.d.F0AAB6D761360B48FD77B461B8720A93.e.74\")>]"
      ]
     },
     "execution_count": 20,
     "metadata": {},
     "output_type": "execute_result"
    }
   ],
   "source": [
    "all_widgets = chrome.find_elements(By.CLASS_NAME, \"product_pod\")\n",
    "type(all_widgets), len(all_widgets)\n",
    "all_widgets"
   ]
  },
  {
   "cell_type": "markdown",
   "metadata": {},
   "source": [
    "On obtient une liste d'éléments décrits par cette class. Il y en a 11, un pour chaque livre. Pour récupérer le titre du premier livre: "
   ]
  },
  {
   "cell_type": "code",
   "execution_count": 8,
   "metadata": {
    "ExecuteTime": {
     "end_time": "2024-10-07T20:27:37.371182Z",
     "start_time": "2024-10-07T20:27:37.354009Z"
    }
   },
   "outputs": [
    {
     "data": {
      "text/plain": [
       "\"It's Only the Himalayas\""
      ]
     },
     "execution_count": 8,
     "metadata": {},
     "output_type": "execute_result"
    }
   ],
   "source": [
    "first_book = all_widgets[0]\n",
    "first_book_title = first_book.find_element(By.CSS_SELECTOR, \"h3\")\n",
    "first_book_title.text"
   ]
  },
  {
   "cell_type": "markdown",
   "metadata": {},
   "source": [
    "Si vous êtes fan de JavaScript vous pouvez même injecter du code JS dans le navigateur depuis Python pour exécuter des opérations complexes. "
   ]
  },
  {
   "cell_type": "code",
   "execution_count": 10,
   "metadata": {
    "ExecuteTime": {
     "end_time": "2024-10-07T20:30:34.896050Z",
     "start_time": "2024-10-07T20:30:34.893742Z"
    }
   },
   "outputs": [],
   "source": [
    "js_script = \"\"\"\n",
    "const class_name = 'DSIA'\n",
    "alert(`Hi from ${class_name}`)\n",
    "\"\"\""
   ]
  },
  {
   "cell_type": "code",
   "execution_count": 12,
   "metadata": {
    "ExecuteTime": {
     "end_time": "2024-10-07T20:30:40.245670Z",
     "start_time": "2024-10-07T20:30:40.233696Z"
    }
   },
   "outputs": [],
   "source": [
    "chrome.execute_script(js_script)"
   ]
  },
  {
   "cell_type": "markdown",
   "metadata": {},
   "source": [
    "# Exercice"
   ]
  },
  {
   "cell_type": "markdown",
   "metadata": {},
   "source": [
    "## Exercice 1"
   ]
  },
  {
   "cell_type": "markdown",
   "metadata": {},
   "source": [
    "Extraire le prix des livres :"
   ]
  },
  {
   "cell_type": "code",
   "execution_count": 22,
   "metadata": {
    "ExecuteTime": {
     "end_time": "2024-10-07T20:31:55.408417Z",
     "start_time": "2024-10-07T20:31:55.396231Z"
    }
   },
   "outputs": [
    {
     "data": {
      "text/plain": [
       "'£45.17'"
      ]
     },
     "execution_count": 22,
     "metadata": {},
     "output_type": "execute_result"
    }
   ],
   "source": [
    "def extract_price(book_web_element):\n",
    "    try:\n",
    "        price_element = book_web_element.find_element(By.CLASS_NAME, 'price_color')\n",
    "        return price_element.text.strip() \n",
    "    except Exception as e:\n",
    "        print(f\"Erreur lors de l'extraction du prix : {e}\")\n",
    "        return None\n",
    "\n",
    "extract_price(all_widgets[0])"
   ]
  },
  {
   "cell_type": "markdown",
   "metadata": {},
   "source": [
    "Extraire l'image des livres: "
   ]
  },
  {
   "cell_type": "code",
   "execution_count": 27,
   "metadata": {
    "ExecuteTime": {
     "end_time": "2024-10-07T20:32:35.941382Z",
     "start_time": "2024-10-07T20:32:35.927749Z"
    }
   },
   "outputs": [
    {
     "data": {
      "text/plain": [
       "'https://books.toscrape.com/media/cache/4e/15/4e15150388702ebca2c5a523ac270539.jpg'"
      ]
     },
     "execution_count": 27,
     "metadata": {},
     "output_type": "execute_result"
    }
   ],
   "source": [
    "def extract_image(book_web_element):\n",
    "    try:\n",
    "        img_element = book_web_element.find_element(By.TAG_NAME, 'img')\n",
    "        return img_element.get_attribute('src') \n",
    "    except Exception as e:\n",
    "        print(f\"Erreur lors de l'extraction de l'image : {e}\")\n",
    "        return None\n",
    "\n",
    "\n",
    "extract_image(all_widgets[5])\n"
   ]
  },
  {
   "cell_type": "markdown",
   "metadata": {},
   "source": [
    "Extraire le nombre d'étoiles d'un livre: "
   ]
  },
  {
   "cell_type": "code",
   "execution_count": 31,
   "metadata": {
    "ExecuteTime": {
     "end_time": "2024-10-07T20:34:01.578701Z",
     "start_time": "2024-10-07T20:34:01.567201Z"
    }
   },
   "outputs": [
    {
     "data": {
      "text/plain": [
       "'Two'"
      ]
     },
     "execution_count": 31,
     "metadata": {},
     "output_type": "execute_result"
    }
   ],
   "source": [
    "def extract_rating(book_web_element):\n",
    "    try:\n",
    "        rate_element = book_web_element.find_element(By.CLASS_NAME, 'star-rating')\n",
    "        return rate_element.get_attribute('class').split()[-1] \n",
    "    except Exception as e:\n",
    "        print(f\"Erreur lors de l'extraction de l'image : {e}\")\n",
    "        return None\n",
    "\n",
    "extract_rating(all_widgets[0])"
   ]
  },
  {
   "cell_type": "code",
   "execution_count": 32,
   "metadata": {
    "ExecuteTime": {
     "end_time": "2024-10-07T20:34:04.274066Z",
     "start_time": "2024-10-07T20:34:04.201186Z"
    }
   },
   "outputs": [],
   "source": [
    "chrome.close()"
   ]
  },
  {
   "cell_type": "code",
   "execution_count": null,
   "metadata": {},
   "outputs": [],
   "source": []
  }
 ],
 "metadata": {
  "kernelspec": {
   "display_name": "DSIA_DataE-zgJdtTYd",
   "language": "python",
   "name": "python3"
  },
  "language_info": {
   "codemirror_mode": {
    "name": "ipython",
    "version": 3
   },
   "file_extension": ".py",
   "mimetype": "text/x-python",
   "name": "python",
   "nbconvert_exporter": "python",
   "pygments_lexer": "ipython3",
   "version": "3.12.6"
  }
 },
 "nbformat": 4,
 "nbformat_minor": 2
}
