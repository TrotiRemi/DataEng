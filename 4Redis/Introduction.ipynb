{
 "cells": [
  {
   "cell_type": "markdown",
   "metadata": {},
   "source": [
    "# Introduction"
   ]
  },
  {
   "cell_type": "markdown",
   "metadata": {},
   "source": [
    "## Présentation"
   ]
  },
  {
   "cell_type": "markdown",
   "metadata": {},
   "source": [
    "Redis est une base de données NoSQL qui se classe dans la catégorie \"data structure server\". C'est  un système permettant de traiter, de manière très performante, des données sous la forme clés/valeurs. Cette performance est obtenue car les données sont stockées directement sur la mémoire RAM. Cela permet d'accéder très facilement et très rapidement aux données \n",
    "\n",
    "La clé permet de récupérer et d'identifier de manière unique la donnée. Redis ne permet pas de stocker des modèles de données très complexes, il faut donc ruser pour créer une structure de données complète et complexe.\n",
    "\n",
    "Redis est souvent utilisé dans le developpement web pour gérer les sessions utilisateurs, leur panier, leurs configurations. En outre, lorsqu'on stocke une petite quantité de donnée et qu'on a besoin d'y accèder en quelques milliseconds"
   ]
  },
  {
   "cell_type": "markdown",
   "metadata": {},
   "source": [
    "## Les données "
   ]
  },
  {
   "cell_type": "markdown",
   "metadata": {},
   "source": [
    "\n",
    "\n",
    "Les valeurs peuvent appartenir aux types suivants :\n",
    "\n",
    "- chaînes de caractères\n",
    "- compteurs numériques (les données numériques seront stockées dans la base sous la forme de chaîne de caractères)\n",
    "- listes \n",
    "- sets ou sets ordonnés\n",
    "- dictionnaires"
   ]
  },
  {
   "cell_type": "markdown",
   "metadata": {},
   "source": [
    "## Lancer un container Redis\n",
    "\n",
    "Comme pour Mongo, il nous faut une instance redis qui tourne en local, pour se faire il suffit de lancer un container Redis\n",
    "\n",
    "Vous devriez être familier avec Docker maintenant, à vous de jouer pour lancer ce container !"
   ]
  },
  {
   "cell_type": "markdown",
   "metadata": {},
   "source": [
    "## Installation"
   ]
  },
  {
   "cell_type": "markdown",
   "metadata": {},
   "source": [
    "Le package Redis pour python est déjà installé, voici la commande si jamais :\n",
    "\n",
    "`pipenv install redis==5.0.8`"
   ]
  },
  {
   "cell_type": "code",
   "execution_count": 4,
   "metadata": {},
   "outputs": [
    {
     "name": "stdout",
     "output_type": "stream",
     "text": [
      "To activate this project's virtualenv, run pipenv shell."
     ]
    },
    {
     "name": "stderr",
     "output_type": "stream",
     "text": [
      "Courtesy Notice:\n",
      "Pipenv found itself running within a virtual environment,  so it will \n",
      "automatically use that environment, instead of  creating its own for any \n",
      "project. You can set\n",
      "PIPENV_IGNORE_VIRTUALENVS=1 to force pipenv to ignore that environment and \n",
      "create  its own instead.\n",
      "You can set PIPENV_VERBOSITY=-1 to suppress this warning.\n",
      "Upgrading redis==5.0.8 in  dependencies.\n"
     ]
    },
    {
     "name": "stdout",
     "output_type": "stream",
     "text": [
      "\n",
      "Alternatively, run a command inside the virtualenv with pipenv run.\n",
      "Installing redis==5.0.8...\n",
      "Installation Succeeded\n",
      "To activate this project's virtualenv, run pipenv shell.\n",
      "Alternatively, run a command inside the virtualenv with pipenv run.\n",
      "Installing dependencies from Pipfile.lock (b31a0f)...\n",
      "All dependencies are now up-to-date!\n",
      "Building requirements...\n",
      "[    ] Locking packages...\n",
      "Resolving dependencies...\n",
      "[    ] Locking packages...\n",
      "[=   ] Locking packages...\n",
      "[==  ] Locking packages...\n",
      "[=== ] Locking packages...\n",
      "[ ===] Locking packages...\n",
      "[  ==] Locking packages...\n",
      "[   =] Locking packages...\n",
      "[    ] Locking packages...\n",
      "[   =] Locking packages...\n",
      "[  ==] Locking packages...\n",
      "[ ===] Locking packages...\n",
      "[====] Locking packages...\n",
      "[=== ] Locking packages...\n",
      "[==  ] Locking packages...\n",
      "[    ] Locking packages...\n",
      "[=   ] Locking packages...\n",
      "[=   ] Locking packages...\n",
      "[==  ] Locking packages...\n",
      "[ ===] Locking packages...\n",
      "[  ==] Locking packages...\n",
      "[   =] Locking packages...\n",
      "[    ] Locking packages...\n",
      "[   =] Locking packages...\n",
      "[  ==] Locking packages...\n",
      "[ ===] Locking packages...\n",
      "[====] Locking packages...\n",
      "[=== ] Locking packages...\n",
      "[==  ] Locking packages...\n",
      "[=   ] Locking packages...\n",
      "[    ] Locking packages...\n",
      "[=   ] Locking packages...\n",
      "[==  ] Locking packages...\n",
      "[=== ] Locking packages...\n",
      "[ ===] Locking packages...\n",
      "[  ==] Locking packages...\n",
      "[    ] Locking packages...\n",
      "[   =] Locking packages...\n",
      "Success!\n",
      "[  ==] Locking packages...\n",
      "[  ==] Locking packages...\n",
      "\n",
      "Building requirements...\n",
      "[    ] Locking packages...\n",
      "Resolving dependencies...\n",
      "[    ] Locking packages...\n",
      "[=   ] Locking packages...\n",
      "[==  ] Locking packages...\n",
      "[=== ] Locking packages...\n",
      "[ ===] Locking packages...\n",
      "[  ==] Locking packages...\n",
      "[   =] Locking packages...\n",
      "[    ] Locking packages...\n",
      "[   =] Locking packages...\n",
      "[  ==] Locking packages...\n",
      "[ ===] Locking packages...\n",
      "[====] Locking packages...\n",
      "[=== ] Locking packages...\n",
      "[==  ] Locking packages...\n",
      "[=   ] Locking packages...\n",
      "[    ] Locking packages...\n",
      "[=   ] Locking packages...\n",
      "[==  ] Locking packages...\n",
      "[=== ] Locking packages...\n",
      "[  ==] Locking packages...\n",
      "[   =] Locking packages...\n",
      "[    ] Locking packages...\n",
      "[   =] Locking packages...\n",
      "[  ==] Locking packages...\n",
      "[ ===] Locking packages...\n",
      "[====] Locking packages...\n",
      "[=== ] Locking packages...\n",
      "[==  ] Locking packages...\n",
      "[=   ] Locking packages...\n",
      "[    ] Locking packages...\n",
      "[=   ] Locking packages...\n",
      "[==  ] Locking packages...\n",
      "[=== ] Locking packages...\n",
      "[ ===] Locking packages...\n",
      "[  ==] Locking packages...\n",
      "[   =] Locking packages...\n",
      "[    ] Locking packages...\n",
      "[  ==] Locking packages...\n",
      "[ ===] Locking packages...\n",
      "[====] Locking packages...\n",
      "[=== ] Locking packages...\n",
      "[==  ] Locking packages...\n",
      "[=   ] Locking packages...\n",
      "[    ] Locking packages...\n",
      "[=   ] Locking packages...\n",
      "[==  ] Locking packages...\n",
      "[=== ] Locking packages...\n",
      "[ ===] Locking packages...\n",
      "[  ==] Locking packages...\n",
      "[   =] Locking packages...\n",
      "[    ] Locking packages...\n",
      "[   =] Locking packages...\n",
      "[  ==] Locking packages...\n",
      "[ ===] Locking packages...\n",
      "[=== ] Locking packages...\n",
      "[==  ] Locking packages...\n",
      "[=   ] Locking packages...\n",
      "[    ] Locking packages...\n",
      "[=   ] Locking packages...\n",
      "[==  ] Locking packages...\n",
      "[=== ] Locking packages...\n",
      "[ ===] Locking packages...\n",
      "[  ==] Locking packages...\n",
      "[   =] Locking packages...\n",
      "[    ] Locking packages...\n",
      "[   =] Locking packages...\n",
      "[  ==] Locking packages...\n",
      "[ ===] Locking packages...\n",
      "[====] Locking packages...\n",
      "[=== ] Locking packages...\n",
      "[==  ] Locking packages...\n",
      "[    ] Locking packages...\n",
      "[    ] Locking packages...\n",
      "[=   ] Locking packages...\n",
      "[=== ] Locking packages...\n",
      "[ ===] Locking packages...\n",
      "[  ==] Locking packages...\n",
      "[   =] Locking packages...\n",
      "[    ] Locking packages...\n",
      "[   =] Locking packages...\n",
      "[  ==] Locking packages...\n",
      "[ ===] Locking packages...\n",
      "[====] Locking packages...\n",
      "[=== ] Locking packages...\n",
      "[==  ] Locking packages...\n",
      "[=   ] Locking packages...\n",
      "[    ] Locking packages...\n",
      "[=   ] Locking packages...\n",
      "[==  ] Locking packages...\n",
      "[ ===] Locking packages...\n",
      "[  ==] Locking packages...\n",
      "[   =] Locking packages...\n",
      "[    ] Locking packages...\n",
      "[   =] Locking packages...\n",
      "[  ==] Locking packages...\n",
      "[ ===] Locking packages...\n",
      "[====] Locking packages...\n",
      "[=== ] Locking packages...\n",
      "[==  ] Locking packages...\n",
      "[=   ] Locking packages...\n",
      "[    ] Locking packages...\n",
      "[=   ] Locking packages...\n",
      "[==  ] Locking packages...\n",
      "[=== ] Locking packages...\n",
      "[ ===] Locking packages...\n",
      "[  ==] Locking packages...\n",
      "[   =] Locking packages...\n",
      "[    ] Locking packages...\n",
      "[  ==] Locking packages...\n",
      "[ ===] Locking packages...\n",
      "[====] Locking packages...\n",
      "[=== ] Locking packages...\n",
      "[==  ] Locking packages...\n",
      "[=   ] Locking packages...\n",
      "[    ] Locking packages...\n",
      "[=   ] Locking packages...\n",
      "[==  ] Locking packages...\n",
      "[=== ] Locking packages...\n",
      "[ ===] Locking packages...\n",
      "[  ==] Locking packages...\n",
      "[   =] Locking packages...\n",
      "[    ] Locking packages...\n",
      "[   =] Locking packages...\n",
      "[  ==] Locking packages...\n",
      "[ ===] Locking packages...\n",
      "[====] Locking packages...\n",
      "[=== ] Locking packages...\n",
      "[==  ] Locking packages...\n",
      "[=   ] Locking packages...\n",
      "[    ] Locking packages...\n",
      "[=   ] Locking packages...\n",
      "[==  ] Locking packages...\n",
      "[ ===] Locking packages...\n",
      "[  ==] Locking packages...\n",
      "[   =] Locking packages...\n",
      "[    ] Locking packages...\n",
      "[   =] Locking packages...\n",
      "[  ==] Locking packages...\n",
      "[ ===] Locking packages...\n",
      "[====] Locking packages...\n",
      "[=== ] Locking packages...\n",
      "[==  ] Locking packages...\n",
      "[=   ] Locking packages...\n",
      "[    ] Locking packages...\n",
      "[=   ] Locking packages...\n",
      "[==  ] Locking packages...\n",
      "[=== ] Locking packages...\n",
      "[ ===] Locking packages...\n",
      "[  ==] Locking packages...\n",
      "[   =] Locking packages...\n",
      "[   =] Locking packages...\n",
      "[   =] Locking packages...\n",
      "[  ==] Locking packages...\n",
      "[====] Locking packages...\n",
      "[=== ] Locking packages...\n",
      "[==  ] Locking packages...\n",
      "[=   ] Locking packages...\n",
      "[    ] Locking packages...\n",
      "[=   ] Locking packages...\n",
      "[==  ] Locking packages...\n",
      "[=== ] Locking packages...\n",
      "[ ===] Locking packages...\n",
      "[  ==] Locking packages...\n",
      "[   =] Locking packages...\n",
      "[    ] Locking packages...\n",
      "[   =] Locking packages...\n",
      "[  ==] Locking packages...\n",
      "[ ===] Locking packages...\n",
      "[====] Locking packages...\n",
      "[=== ] Locking packages...\n",
      "[==  ] Locking packages...\n",
      "[=   ] Locking packages...\n",
      "[    ] Locking packages...\n",
      "[==  ] Locking packages...\n",
      "[=== ] Locking packages...\n",
      "[=== ] Locking packages...\n",
      "[  ==] Locking packages...\n",
      "[   =] Locking packages...\n",
      "Success!\n",
      "[   =] Locking packages...\n",
      "[   =] Locking packages...\n",
      "\n",
      "To activate this project's virtualenv, run pipenv shell.\n",
      "Alternatively, run a command inside the virtualenv with pipenv run.\n",
      "Installing dependencies from Pipfile.lock (b31a0f)...\n",
      "All dependencies are now up-to-date!\n",
      "Installing dependencies from Pipfile.lock (b31a0f)...\n"
     ]
    }
   ],
   "source": [
    "!pipenv install redis==5.0.8"
   ]
  },
  {
   "cell_type": "markdown",
   "metadata": {},
   "source": [
    "# Let's play"
   ]
  },
  {
   "cell_type": "code",
   "execution_count": 5,
   "metadata": {
    "ExecuteTime": {
     "end_time": "2024-10-08T14:21:53.502196Z",
     "start_time": "2024-10-08T14:21:53.500653Z"
    }
   },
   "outputs": [],
   "source": [
    "import redis"
   ]
  },
  {
   "cell_type": "code",
   "execution_count": 22,
   "metadata": {
    "ExecuteTime": {
     "end_time": "2024-10-08T14:21:54.122091Z",
     "start_time": "2024-10-08T14:21:54.120410Z"
    }
   },
   "outputs": [],
   "source": [
    "redis_client = redis.StrictRedis(host='localhost')"
   ]
  },
  {
   "cell_type": "markdown",
   "metadata": {},
   "source": [
    "Pour tester la connexion on peut pinguer la base de données :"
   ]
  },
  {
   "cell_type": "code",
   "execution_count": 17,
   "metadata": {},
   "outputs": [
    {
     "name": "stdout",
     "output_type": "stream",
     "text": [
      "Could not connect to Redis: Error 10061 connecting to localhost:6379. Aucune connexion n’a pu être établie car l’ordinateur cible l’a expressément refusée.\n"
     ]
    }
   ],
   "source": [
    "import redis\n",
    "\n",
    "try:\n",
    "    client = redis.Redis(host='localhost', port=6379, decode_responses=True)\n",
    "    client.ping()\n",
    "    print(\"Connected to Redis!\")\n",
    "except redis.ConnectionError as e:\n",
    "    print(f\"Could not connect to Redis: {e}\")"
   ]
  },
  {
   "cell_type": "code",
   "execution_count": 23,
   "metadata": {
    "ExecuteTime": {
     "end_time": "2024-10-08T14:21:55.326224Z",
     "start_time": "2024-10-08T14:21:55.320800Z"
    }
   },
   "outputs": [
    {
     "data": {
      "text/plain": [
       "True"
      ]
     },
     "execution_count": 23,
     "metadata": {},
     "output_type": "execute_result"
    }
   ],
   "source": [
    "redis_client.ping()"
   ]
  },
  {
   "cell_type": "markdown",
   "metadata": {},
   "source": [
    "Vous pouvez regarder toutes les configurations utilisées par Redis, beaucoup ne sont pas utiles à notre niveau, mais vous pouvez voir par exemple, `database`, `maxclients`, `port` , `timeout` qui peuvent être utile de modifier pour différentes applications"
   ]
  },
  {
   "cell_type": "code",
   "execution_count": 24,
   "metadata": {
    "ExecuteTime": {
     "end_time": "2024-10-08T14:22:14.960500Z",
     "start_time": "2024-10-08T14:22:14.953653Z"
    }
   },
   "outputs": [
    {
     "data": {
      "text/plain": [
       "{'cluster-announce-bus-port': '0',\n",
       " 'set-max-listpack-entries': '128',\n",
       " 'active-defrag-ignore-bytes': '104857600',\n",
       " 'bgsave_cpulist': '',\n",
       " 'slave-announce-port': '0',\n",
       " 'zset-max-ziplist-value': '64',\n",
       " 'activerehashing': 'yes',\n",
       " 'maxmemory-samples': '5',\n",
       " 'repl-diskless-sync': 'yes',\n",
       " 'shutdown-timeout': '10',\n",
       " 'tls-prefer-server-ciphers': 'no',\n",
       " 'appendfilename': 'appendonly.aof',\n",
       " 'tls-replication': 'no',\n",
       " 'tls-ca-cert-dir': '',\n",
       " 'lfu-decay-time': '1',\n",
       " 'bio-cpulist': '',\n",
       " 'client-query-buffer-limit': '1073741824',\n",
       " 'slowlog-max-len': '128',\n",
       " 'list-compress-depth': '0',\n",
       " 'dynamic-hz': 'yes',\n",
       " 'active-defrag-threshold-upper': '100',\n",
       " 'auto-aof-rewrite-percentage': '100',\n",
       " 'zset-max-listpack-entries': '128',\n",
       " 'rdbchecksum': 'yes',\n",
       " 'disable-thp': 'yes',\n",
       " 'cluster-node-timeout': '15000',\n",
       " 'hash-max-ziplist-entries': '512',\n",
       " 'shutdown-on-sigint': 'default',\n",
       " 'latency-tracking': 'yes',\n",
       " 'replica-ignore-maxmemory': 'yes',\n",
       " 'tls-cert-file': '',\n",
       " 'tls-client-cert-file': '',\n",
       " 'maxmemory': '0',\n",
       " 'cluster-link-sendbuf-limit': '0',\n",
       " 'bind': '* -::*',\n",
       " 'cluster-replica-validity-factor': '10',\n",
       " 'tls-session-cache-size': '20480',\n",
       " 'aof-use-rdb-preamble': 'yes',\n",
       " 'tls-session-caching': 'yes',\n",
       " 'syslog-enabled': 'no',\n",
       " 'slave-serve-stale-data': 'yes',\n",
       " 'slaveof': '',\n",
       " 'list-max-ziplist-size': '-2',\n",
       " 'repl-diskless-sync-max-replicas': '0',\n",
       " 'proto-max-bulk-len': '536870912',\n",
       " 'latency-tracking-info-percentiles': '50 99 99.9',\n",
       " 'cluster-announce-ip': '',\n",
       " 'cluster-slave-no-failover': 'no',\n",
       " 'slave-priority': '100',\n",
       " 'cluster-require-full-coverage': 'yes',\n",
       " 'repl-diskless-sync-delay': '5',\n",
       " 'dir': '/data',\n",
       " 'active-expire-effort': '1',\n",
       " 'active-defrag-cycle-max': '25',\n",
       " 'unixsocketperm': '0',\n",
       " 'stop-writes-on-bgsave-error': 'yes',\n",
       " 'rdb-del-sync-files': 'no',\n",
       " 'cluster-enabled': 'no',\n",
       " 'repl-backlog-ttl': '3600',\n",
       " 'tls-client-key-file': '',\n",
       " 'databases': '16',\n",
       " 'tcp-backlog': '511',\n",
       " 'cluster-allow-pubsubshard-when-down': 'yes',\n",
       " 'bgsave-cpulist': '',\n",
       " 'requirepass': '',\n",
       " 'notify-keyspace-events': '',\n",
       " 'slowlog-log-slower-than': '10000',\n",
       " 'lazyfree-lazy-server-del': 'no',\n",
       " 'aof_rewrite_cpulist': '',\n",
       " 'repl-ping-replica-period': '10',\n",
       " 'tls-key-file-pass': '',\n",
       " 'daemonize': 'no',\n",
       " 'port': '6379',\n",
       " 'lazyfree-lazy-user-del': 'no',\n",
       " 'lua-time-limit': '5000',\n",
       " 'proc-title-template': '{title} {listen-addr} {server-mode}',\n",
       " 'tls-ca-cert-file': '',\n",
       " 'crash-memcheck-enabled': 'yes',\n",
       " 'slave-lazy-flush': 'no',\n",
       " 'lazyfree-lazy-eviction': 'no',\n",
       " 'replica-announce-port': '0',\n",
       " 'hash-max-listpack-value': '64',\n",
       " 'cluster-slave-validity-factor': '10',\n",
       " 'replica-ignore-disk-write-errors': 'no',\n",
       " 'replica-priority': '100',\n",
       " 'hz': '10',\n",
       " 'jemalloc-bg-thread': 'yes',\n",
       " 'rdbcompression': 'yes',\n",
       " 'replicaof': '',\n",
       " 'oom-score-adj-values': '0 200 800',\n",
       " 'protected-mode': 'no',\n",
       " 'busy-reply-threshold': '5000',\n",
       " 'lazyfree-lazy-user-flush': 'no',\n",
       " 'tls-port': '0',\n",
       " 'list-max-listpack-size': '-2',\n",
       " 'acl-pubsub-default': 'resetchannels',\n",
       " 'save': '3600 1 300 100 60 10000',\n",
       " 'enable-module-command': 'no',\n",
       " 'maxmemory-policy': 'noeviction',\n",
       " 'aof-load-truncated': 'yes',\n",
       " 'masteruser': '',\n",
       " 'io-threads': '1',\n",
       " 'enable-protected-configs': 'no',\n",
       " 'server_cpulist': '',\n",
       " 'bio_cpulist': '',\n",
       " 'replica-lazy-flush': 'no',\n",
       " 'locale-collate': '',\n",
       " 'maxclients': '10000',\n",
       " 'cluster-announce-port': '0',\n",
       " 'repl-timeout': '60',\n",
       " 'server-cpulist': '',\n",
       " 'auto-aof-rewrite-min-size': '67108864',\n",
       " 'dbfilename': 'dump.rdb',\n",
       " 'slave-announce-ip': '',\n",
       " 'appendonly': 'no',\n",
       " 'tracking-table-max-keys': '1000000',\n",
       " 'socket-mark-id': '0',\n",
       " 'cluster-allow-reads-when-down': 'no',\n",
       " 'syslog-ident': 'redis',\n",
       " 'sanitize-dump-payload': 'no',\n",
       " 'replica-announce-ip': '',\n",
       " 'cluster-preferred-endpoint-type': 'ip',\n",
       " 'slave-read-only': 'yes',\n",
       " 'active-defrag-cycle-min': '1',\n",
       " 'appendfsync': 'everysec',\n",
       " 'repl-diskless-load': 'disabled',\n",
       " 'zset-max-listpack-value': '64',\n",
       " 'set-max-listpack-value': '64',\n",
       " 'max-new-connections-per-cycle': '10',\n",
       " 'shutdown-on-sigterm': 'default',\n",
       " 'zset-max-ziplist-entries': '128',\n",
       " 'max-new-tls-connections-per-cycle': '1',\n",
       " 'active-defrag-max-scan-fields': '1000',\n",
       " 'crash-log-enabled': 'yes',\n",
       " 'repl-ping-slave-period': '10',\n",
       " 'min-slaves-max-lag': '10',\n",
       " 'masterauth': '',\n",
       " 'timeout': '0',\n",
       " 'io-threads-do-reads': 'no',\n",
       " 'lfu-log-factor': '10',\n",
       " 'tls-protocols': '',\n",
       " 'tls-key-file': '',\n",
       " 'bind-source-addr': '',\n",
       " 'tcp-keepalive': '300',\n",
       " 'maxmemory-eviction-tenacity': '10',\n",
       " 'tls-auth-clients': 'yes',\n",
       " 'unixsocket': '',\n",
       " 'aof-rewrite-cpulist': '',\n",
       " 'tls-session-cache-timeout': '300',\n",
       " 'hll-sparse-max-bytes': '3000',\n",
       " 'rdb-save-incremental-fsync': 'yes',\n",
       " 'propagation-error-behavior': 'ignore',\n",
       " 'acllog-max-len': '128',\n",
       " 'maxmemory-clients': '0',\n",
       " 'replica-announced': 'yes',\n",
       " 'cluster-announce-hostname': '',\n",
       " 'replica-serve-stale-data': 'yes',\n",
       " 'always-show-logo': 'no',\n",
       " 'pidfile': '',\n",
       " 'aof-timestamp-enabled': 'no',\n",
       " 'repl-disable-tcp-nodelay': 'no',\n",
       " 'loglevel': 'notice',\n",
       " 'repl-backlog-size': '1048576',\n",
       " 'aof-rewrite-incremental-fsync': 'yes',\n",
       " 'min-replicas-to-write': '0',\n",
       " 'client-output-buffer-limit': 'normal 0 0 0 slave 268435456 67108864 60 pubsub 33554432 8388608 60',\n",
       " 'tls-ciphersuites': '',\n",
       " 'cluster-migration-barrier': '1',\n",
       " 'cluster-port': '0',\n",
       " 'cluster-replica-no-failover': 'no',\n",
       " 'hash-max-listpack-entries': '512',\n",
       " 'activedefrag': 'no',\n",
       " 'appenddirname': 'appendonlydir',\n",
       " 'cluster-announce-human-nodename': '',\n",
       " 'oom-score-adj': 'no',\n",
       " 'active-defrag-threshold-lower': '10',\n",
       " 'tls-ciphers': '',\n",
       " 'stream-node-max-bytes': '4096',\n",
       " 'ignore-warnings': '',\n",
       " 'hash-max-ziplist-value': '64',\n",
       " 'tls-client-key-file-pass': '',\n",
       " 'no-appendfsync-on-rewrite': 'no',\n",
       " 'stream-node-max-entries': '100',\n",
       " 'latency-monitor-threshold': '0',\n",
       " 'set-max-intset-entries': '512',\n",
       " 'replica-read-only': 'yes',\n",
       " 'cluster-announce-tls-port': '0',\n",
       " 'syslog-facility': 'local0',\n",
       " 'set-proc-title': 'yes',\n",
       " 'lazyfree-lazy-expire': 'no',\n",
       " 'hide-user-data-from-log': 'no',\n",
       " 'slave-ignore-maxmemory': 'yes',\n",
       " 'cluster-allow-replica-migration': 'yes',\n",
       " 'min-replicas-max-lag': '10',\n",
       " 'tls-dh-params-file': '',\n",
       " 'min-slaves-to-write': '0',\n",
       " 'logfile': '',\n",
       " 'supervised': 'no',\n",
       " 'aclfile': '',\n",
       " 'cluster-config-file': 'nodes.conf',\n",
       " 'tls-cluster': 'no',\n",
       " 'enable-debug-command': 'no'}"
      ]
     },
     "execution_count": 24,
     "metadata": {},
     "output_type": "execute_result"
    }
   ],
   "source": [
    "redis_client.config_get()"
   ]
  },
  {
   "cell_type": "markdown",
   "metadata": {},
   "source": [
    "## Stockage clé valeurs"
   ]
  },
  {
   "cell_type": "markdown",
   "metadata": {},
   "source": [
    "Pour stocker une valeur correspondant à une clé "
   ]
  },
  {
   "cell_type": "code",
   "execution_count": 27,
   "metadata": {
    "ExecuteTime": {
     "end_time": "2024-10-08T14:22:26.485909Z",
     "start_time": "2024-10-08T14:22:26.482576Z"
    }
   },
   "outputs": [
    {
     "data": {
      "text/plain": [
       "True"
      ]
     },
     "execution_count": 27,
     "metadata": {},
     "output_type": "execute_result"
    }
   ],
   "source": [
    "KEY = \"Locquette\"\n",
    "VALUE = \"Remi\"\n",
    "redis_client.set(KEY, VALUE)"
   ]
  },
  {
   "cell_type": "markdown",
   "metadata": {},
   "source": [
    "True montre que le stockage s'est bien déroulé. "
   ]
  },
  {
   "cell_type": "markdown",
   "metadata": {},
   "source": [
    "Pour récupérer la valeur stockée il suffit d'appeler la méthode `GET` sur cette clé"
   ]
  },
  {
   "cell_type": "code",
   "execution_count": 28,
   "metadata": {
    "ExecuteTime": {
     "end_time": "2024-10-08T14:22:35.472090Z",
     "start_time": "2024-10-08T14:22:35.468655Z"
    }
   },
   "outputs": [
    {
     "data": {
      "text/plain": [
       "b'Remi'"
      ]
     },
     "execution_count": 28,
     "metadata": {},
     "output_type": "execute_result"
    }
   ],
   "source": [
    "redis_client.get(KEY)"
   ]
  },
  {
   "cell_type": "markdown",
   "metadata": {},
   "source": [
    "Vous pouvez voir qu'à l'aide du `b` que la réponse n'est pas exactement ce que l'on a stocké, mais une représentation en bytes de notre chaine de charactères. "
   ]
  },
  {
   "cell_type": "code",
   "execution_count": 29,
   "metadata": {
    "ExecuteTime": {
     "end_time": "2024-10-08T14:23:00.750346Z",
     "start_time": "2024-10-08T14:23:00.706625Z"
    }
   },
   "outputs": [
    {
     "ename": "AssertionError",
     "evalue": "Les valeurs ne correspondent pas",
     "output_type": "error",
     "traceback": [
      "\u001b[1;31m---------------------------------------------------------------------------\u001b[0m",
      "\u001b[1;31mAssertionError\u001b[0m                            Traceback (most recent call last)",
      "Cell \u001b[1;32mIn[29], line 1\u001b[0m\n\u001b[1;32m----> 1\u001b[0m \u001b[38;5;28;01massert\u001b[39;00m redis_client\u001b[38;5;241m.\u001b[39mget(KEY) \u001b[38;5;241m==\u001b[39m VALUE, \u001b[38;5;124m\"\u001b[39m\u001b[38;5;124mLes valeurs ne correspondent pas\u001b[39m\u001b[38;5;124m\"\u001b[39m\n",
      "\u001b[1;31mAssertionError\u001b[0m: Les valeurs ne correspondent pas"
     ]
    }
   ],
   "source": [
    "assert redis_client.get(KEY) == VALUE, \"Les valeurs ne correspondent pas\""
   ]
  },
  {
   "cell_type": "markdown",
   "metadata": {},
   "source": [
    "Pour cela, en python, il faut appeler la méthode `decode()` pour transformer des bytes en string "
   ]
  },
  {
   "cell_type": "code",
   "execution_count": 30,
   "metadata": {
    "ExecuteTime": {
     "end_time": "2024-10-08T14:23:08.457857Z",
     "start_time": "2024-10-08T14:23:08.455091Z"
    }
   },
   "outputs": [],
   "source": [
    "assert redis_client.get(KEY).decode() == VALUE, \"les valeurs ne correspondent pas\""
   ]
  },
  {
   "cell_type": "markdown",
   "metadata": {},
   "source": [
    "On peut préciser au client de décoder les réponses et de les transformer directement en strings"
   ]
  },
  {
   "cell_type": "code",
   "execution_count": 31,
   "metadata": {
    "ExecuteTime": {
     "end_time": "2024-10-08T14:23:33.575670Z",
     "start_time": "2024-10-08T14:23:33.573531Z"
    }
   },
   "outputs": [],
   "source": [
    "redis_client = redis.StrictRedis(host='localhost', charset='utf-8', decode_responses=True)"
   ]
  },
  {
   "cell_type": "code",
   "execution_count": 32,
   "metadata": {
    "ExecuteTime": {
     "end_time": "2024-10-08T14:23:35.026675Z",
     "start_time": "2024-10-08T14:23:35.022571Z"
    }
   },
   "outputs": [],
   "source": [
    "assert redis_client.get(KEY) == VALUE"
   ]
  },
  {
   "cell_type": "markdown",
   "metadata": {},
   "source": [
    "Les valeurs peuvent aussi être des entiers"
   ]
  },
  {
   "cell_type": "code",
   "execution_count": 33,
   "metadata": {
    "ExecuteTime": {
     "end_time": "2024-10-08T14:23:38.689866Z",
     "start_time": "2024-10-08T14:23:38.685772Z"
    }
   },
   "outputs": [
    {
     "data": {
      "text/plain": [
       "True"
      ]
     },
     "execution_count": 33,
     "metadata": {},
     "output_type": "execute_result"
    }
   ],
   "source": [
    "KEY = \"age\"\n",
    "VALUE = 20\n",
    "\n",
    "redis_client.set(KEY, VALUE)"
   ]
  },
  {
   "cell_type": "code",
   "execution_count": 34,
   "metadata": {
    "ExecuteTime": {
     "end_time": "2024-10-08T14:23:39.466609Z",
     "start_time": "2024-10-08T14:23:39.463643Z"
    }
   },
   "outputs": [
    {
     "data": {
      "text/plain": [
       "'20'"
      ]
     },
     "execution_count": 34,
     "metadata": {},
     "output_type": "execute_result"
    }
   ],
   "source": [
    "redis_client.get(KEY)"
   ]
  },
  {
   "cell_type": "markdown",
   "metadata": {},
   "source": [
    "Vous pouvez alors utiliser la méthode `incr` pour incrémenter cet entier. Il faut faire attention puisque redis renvoie toujours les entiers comme des chaines de charactères."
   ]
  },
  {
   "cell_type": "code",
   "execution_count": 35,
   "metadata": {
    "ExecuteTime": {
     "end_time": "2024-10-08T14:23:53.508711Z",
     "start_time": "2024-10-08T14:23:53.504976Z"
    }
   },
   "outputs": [
    {
     "data": {
      "text/plain": [
       "21"
      ]
     },
     "execution_count": 35,
     "metadata": {},
     "output_type": "execute_result"
    }
   ],
   "source": [
    "redis_client.incr(KEY)"
   ]
  },
  {
   "cell_type": "markdown",
   "metadata": {},
   "source": [
    "## Exemple "
   ]
  },
  {
   "cell_type": "code",
   "execution_count": 39,
   "metadata": {},
   "outputs": [
    {
     "name": "stdout",
     "output_type": "stream",
     "text": [
      "To activate this project's virtualenv, run pipenv shell.\n",
      "Alternatively, run a command inside the virtualenv with pipenv run.\n",
      "Installing ipywidgets...\n",
      "Installation Succeeded\n",
      "To activate this project's virtualenv, run pipenv shell.\n",
      "Alternatively, run a command inside the virtualenv with pipenv run.\n",
      "Installing dependencies from Pipfile.lock (b31a0f)...\n",
      "All dependencies are now up-to-date!\n",
      "Building requirements...\n",
      "[    ] Locking packages...\n",
      "Resolving dependencies...\n",
      "[    ] Locking packages...\n",
      "[    ] Locking packages...\n",
      "[==  ] Locking packages...\n",
      "[=== ] Locking packages...\n",
      "[ ===] Locking packages...\n",
      "[  ==] Locking packages...\n",
      "[   =] Locking packages...\n",
      "[    ] Locking packages...\n",
      "[   =] Locking packages...\n",
      "[  ==] Locking packages...\n",
      "[ ===] Locking packages...\n",
      "[====] Locking packages...\n",
      "[=== ] Locking packages...\n",
      "[=   ] Locking packages...\n",
      "[    ] Locking packages...\n",
      "[=   ] Locking packages...\n",
      "[==  ] Locking packages...\n",
      "[=== ] Locking packages...\n",
      "[ ===] Locking packages...\n",
      "[  ==] Locking packages...\n",
      "[   =] Locking packages...\n",
      "[    ] Locking packages...\n",
      "[   =] Locking packages...\n",
      "[  ==] Locking packages...\n",
      "[ ===] Locking packages...\n",
      "[====] Locking packages...\n",
      "[=== ] Locking packages...\n",
      "[==  ] Locking packages...\n",
      "[    ] Locking packages...\n",
      "[=   ] Locking packages...\n",
      "[==  ] Locking packages...\n",
      "[=== ] Locking packages...\n",
      "[ ===] Locking packages...\n",
      "[  ==] Locking packages...\n",
      "[   =] Locking packages...\n",
      "[    ] Locking packages...\n",
      "[   =] Locking packages...\n",
      "[  ==] Locking packages...\n",
      "[ ===] Locking packages...\n",
      "[====] Locking packages...\n",
      "[=== ] Locking packages...\n",
      "[==  ] Locking packages...\n",
      "[=   ] Locking packages...\n",
      "[    ] Locking packages...\n",
      "[=   ] Locking packages...\n",
      "[=== ] Locking packages...\n",
      "[ ===] Locking packages...\n",
      "[  ==] Locking packages...\n",
      "[   =] Locking packages...\n",
      "[    ] Locking packages...\n",
      "[   =] Locking packages...\n",
      "[  ==] Locking packages...\n",
      "[ ===] Locking packages...\n",
      "[====] Locking packages...\n",
      "[=== ] Locking packages...\n",
      "[==  ] Locking packages...\n",
      "[=   ] Locking packages...\n",
      "[    ] Locking packages...\n",
      "[==  ] Locking packages...\n",
      "[=== ] Locking packages...\n",
      "[ ===] Locking packages...\n",
      "[  ==] Locking packages...\n",
      "[   =] Locking packages...\n",
      "[    ] Locking packages...\n",
      "[   =] Locking packages...\n",
      "[  ==] Locking packages...\n",
      "[ ===] Locking packages...\n",
      "[====] Locking packages...\n",
      "[=== ] Locking packages...\n",
      "[==  ] Locking packages...\n",
      "[=   ] Locking packages...\n",
      "[    ] Locking packages...\n",
      "[=   ] Locking packages...\n",
      "[==  ] Locking packages...\n",
      "[ ===] Locking packages...\n",
      "[  ==] Locking packages...\n",
      "Success!\n",
      "[  ==] Locking packages...\n",
      "[  ==] Locking packages...\n",
      "\n",
      "Building requirements...\n",
      "[    ] Locking packages...\n",
      "Resolving dependencies...\n",
      "[    ] Locking packages...\n",
      "[=   ] Locking packages...\n",
      "[==  ] Locking packages...\n",
      "[=== ] Locking packages...\n",
      "[ ===] Locking packages...\n",
      "[  ==] Locking packages...\n",
      "[   =] Locking packages...\n",
      "[    ] Locking packages...\n",
      "[   =] Locking packages...\n",
      "[  ==] Locking packages...\n",
      "[ ===] Locking packages...\n",
      "[====] Locking packages...\n",
      "[=== ] Locking packages...\n",
      "[==  ] Locking packages...\n",
      "[=   ] Locking packages...\n",
      "[    ] Locking packages...\n",
      "[=   ] Locking packages...\n",
      "[==  ] Locking packages...\n",
      "[ ===] Locking packages...\n",
      "[  ==] Locking packages...\n",
      "[   =] Locking packages...\n",
      "[    ] Locking packages...\n",
      "[   =] Locking packages...\n",
      "[  ==] Locking packages...\n",
      "[ ===] Locking packages...\n",
      "[====] Locking packages...\n",
      "[=== ] Locking packages...\n",
      "[==  ] Locking packages...\n",
      "[=   ] Locking packages...\n",
      "[    ] Locking packages...\n",
      "[=   ] Locking packages...\n",
      "[==  ] Locking packages...\n",
      "[=== ] Locking packages...\n",
      "[ ===] Locking packages...\n",
      "[  ==] Locking packages...\n",
      "[   =] Locking packages...\n",
      "[   =] Locking packages...\n",
      "[  ==] Locking packages...\n",
      "[ ===] Locking packages...\n",
      "[====] Locking packages...\n",
      "[=== ] Locking packages...\n",
      "[==  ] Locking packages...\n",
      "[=   ] Locking packages...\n",
      "[    ] Locking packages...\n",
      "[=   ] Locking packages...\n",
      "[==  ] Locking packages...\n",
      "[=== ] Locking packages...\n",
      "[ ===] Locking packages...\n",
      "[  ==] Locking packages...\n",
      "[   =] Locking packages...\n",
      "[    ] Locking packages...\n",
      "[  ==] Locking packages...\n",
      "[ ===] Locking packages...\n",
      "[====] Locking packages...\n",
      "[=== ] Locking packages...\n",
      "[==  ] Locking packages...\n",
      "[=   ] Locking packages...\n",
      "[    ] Locking packages...\n",
      "[=   ] Locking packages...\n",
      "[==  ] Locking packages...\n",
      "[=== ] Locking packages...\n",
      "[ ===] Locking packages...\n",
      "[  ==] Locking packages...\n",
      "[   =] Locking packages...\n",
      "[    ] Locking packages...\n",
      "[   =] Locking packages...\n",
      "[  ==] Locking packages...\n",
      "[ ===] Locking packages...\n",
      "[====] Locking packages...\n",
      "[=== ] Locking packages...\n",
      "[=   ] Locking packages...\n",
      "[    ] Locking packages...\n",
      "[    ] Locking packages...\n",
      "[==  ] Locking packages...\n",
      "[=== ] Locking packages...\n",
      "[ ===] Locking packages...\n",
      "[  ==] Locking packages...\n",
      "[   =] Locking packages...\n",
      "[    ] Locking packages...\n",
      "[   =] Locking packages...\n",
      "[  ==] Locking packages...\n",
      "[ ===] Locking packages...\n",
      "[====] Locking packages...\n",
      "[=== ] Locking packages...\n",
      "[==  ] Locking packages...\n",
      "[=   ] Locking packages...\n",
      "[    ] Locking packages...\n",
      "[=   ] Locking packages...\n",
      "[==  ] Locking packages...\n",
      "[=== ] Locking packages...\n",
      "[ ===] Locking packages...\n",
      "[  ==] Locking packages...\n",
      "[   =] Locking packages...\n",
      "[   =] Locking packages...\n",
      "[  ==] Locking packages...\n",
      "[ ===] Locking packages...\n",
      "[====] Locking packages...\n",
      "[=== ] Locking packages...\n",
      "[==  ] Locking packages...\n",
      "[=   ] Locking packages...\n",
      "[    ] Locking packages...\n",
      "[=   ] Locking packages...\n",
      "[==  ] Locking packages...\n",
      "[=== ] Locking packages...\n",
      "[ ===] Locking packages...\n",
      "[  ==] Locking packages...\n",
      "[   =] Locking packages...\n",
      "[    ] Locking packages...\n",
      "[   =] Locking packages...\n",
      "[  ==] Locking packages...\n",
      "[ ===] Locking packages...\n",
      "[====] Locking packages...\n",
      "[=== ] Locking packages...\n",
      "[==  ] Locking packages...\n",
      "[    ] Locking packages...\n",
      "[=   ] Locking packages...\n",
      "[==  ] Locking packages...\n",
      "[=== ] Locking packages...\n",
      "[ ===] Locking packages...\n",
      "[  ==] Locking packages...\n",
      "[   =] Locking packages...\n",
      "[    ] Locking packages...\n",
      "[   =] Locking packages...\n",
      "[  ==] Locking packages...\n",
      "[ ===] Locking packages...\n",
      "[====] Locking packages...\n",
      "[=== ] Locking packages...\n",
      "[==  ] Locking packages...\n",
      "[=   ] Locking packages...\n",
      "[    ] Locking packages...\n",
      "[=   ] Locking packages...\n",
      "[==  ] Locking packages...\n",
      "[=== ] Locking packages...\n",
      "[  ==] Locking packages...\n",
      "[   =] Locking packages...\n",
      "[   =] Locking packages...\n",
      "[   =] Locking packages...\n",
      "[  ==] Locking packages...\n",
      "[ ===] Locking packages...\n",
      "[====] Locking packages...\n",
      "[=== ] Locking packages...\n",
      "[==  ] Locking packages...\n",
      "[=   ] Locking packages...\n",
      "[    ] Locking packages...\n",
      "[=   ] Locking packages...\n",
      "[==  ] Locking packages...\n",
      "[=== ] Locking packages...\n",
      "[ ===] Locking packages...\n",
      "[  ==] Locking packages...\n",
      "[   =] Locking packages...\n",
      "[    ] Locking packages...\n",
      "[   =] Locking packages...\n",
      "[  ==] Locking packages...\n",
      "[ ===] Locking packages...\n",
      "[====] Locking packages...\n",
      "[=== ] Locking packages...\n",
      "[==  ] Locking packages...\n",
      "[    ] Locking packages...\n",
      "[=   ] Locking packages...\n",
      "[==  ] Locking packages...\n",
      "[=== ] Locking packages...\n",
      "[ ===] Locking packages...\n",
      "[  ==] Locking packages...\n",
      "[   =] Locking packages...\n",
      "[    ] Locking packages...\n",
      "[   =] Locking packages...\n",
      "[  ==] Locking packages...\n",
      "[ ===] Locking packages...\n",
      "[====] Locking packages...\n",
      "[=== ] Locking packages...\n",
      "[==  ] Locking packages...\n",
      "[=   ] Locking packages...\n",
      "[    ] Locking packages...\n",
      "[=   ] Locking packages...\n",
      "[==  ] Locking packages...\n",
      "[=== ] Locking packages...\n",
      "[ ===] Locking packages...\n",
      "[  ==] Locking packages...\n",
      "[    ] Locking packages...\n",
      "[   =] Locking packages...\n",
      "[  ==] Locking packages...\n",
      "[ ===] Locking packages...\n",
      "[====] Locking packages...\n",
      "Success!\n",
      "[=== ] Locking packages...\n",
      "[=== ] Locking packages...\n",
      "\n",
      "To activate this project's virtualenv, run pipenv shell.\n",
      "Alternatively, run a command inside the virtualenv with pipenv run.\n",
      "Installing dependencies from Pipfile.lock (7f073b)...\n",
      "All dependencies are now up-to-date!\n",
      "Installing dependencies from Pipfile.lock (7f073b)...\n"
     ]
    },
    {
     "name": "stderr",
     "output_type": "stream",
     "text": [
      "Courtesy Notice:\n",
      "Pipenv found itself running within a virtual environment,  so it will \n",
      "automatically use that environment, instead of  creating its own for any \n",
      "project. You can set\n",
      "PIPENV_IGNORE_VIRTUALENVS=1 to force pipenv to ignore that environment and \n",
      "create  its own instead.\n",
      "You can set PIPENV_VERBOSITY=-1 to suppress this warning.\n",
      "Upgrading ipywidgets in  dependencies.\n"
     ]
    }
   ],
   "source": [
    "!pipenv install ipywidgets"
   ]
  },
  {
   "cell_type": "code",
   "execution_count": null,
   "metadata": {
    "ExecuteTime": {
     "end_time": "2024-10-08T14:24:06.730061Z",
     "start_time": "2024-10-08T14:24:06.692781Z"
    }
   },
   "outputs": [],
   "source": [
    "from ipywidgets import widgets, interact\n",
    "from IPython.display import display"
   ]
  },
  {
   "cell_type": "code",
   "execution_count": null,
   "metadata": {
    "ExecuteTime": {
     "end_time": "2024-10-08T14:24:17.378412Z",
     "start_time": "2024-10-08T14:24:17.374118Z"
    }
   },
   "outputs": [
    {
     "data": {
      "application/vnd.jupyter.widget-view+json": {
       "model_id": "8a5ad1e243f141e38cb64ada4040bc51",
       "version_major": 2,
       "version_minor": 0
      },
      "text/plain": [
       "Button(description='Click me!', style=ButtonStyle())"
      ]
     },
     "metadata": {},
     "output_type": "display_data"
    }
   ],
   "source": [
    "KEY = \"click_number\"\n",
    "DEFAULT_VALUE = 0\n",
    "\n",
    "redis_client.set(KEY, DEFAULT_VALUE)\n",
    "\n",
    "button = widgets.Button(description=\"Click me!\")\n",
    "def on_button_clicked(button):\n",
    "    redis_client.incr(KEY)\n",
    "    print(f\"Le bouton à été cliqué {redis_client.get(KEY)} fois\")\n",
    "    button.description = \"Click me more !\"\n",
    "    \n",
    "button.on_click(on_button_clicked)\n",
    "display(button)"
   ]
  },
  {
   "cell_type": "code",
   "execution_count": 22,
   "metadata": {
    "ExecuteTime": {
     "end_time": "2024-10-08T14:25:09.862648Z",
     "start_time": "2024-10-08T14:25:09.859155Z"
    }
   },
   "outputs": [
    {
     "name": "stdout",
     "output_type": "stream",
     "text": [
      "Tu as cliqué sur le bouton 10 fois !\n"
     ]
    }
   ],
   "source": [
    "print(f\"Tu as cliqué sur le bouton {redis_client.get(KEY)} fois !\")"
   ]
  },
  {
   "cell_type": "markdown",
   "metadata": {},
   "source": [
    "## Les Listes"
   ]
  },
  {
   "cell_type": "markdown",
   "metadata": {},
   "source": [
    "Redis permet aussi de stocker des valeurs de type `list`, pour cela nous avons à notre disposition un ensemble de méthodes :  \n",
    "\n",
    "- La méthode `LPUSH`  permet d'ajouter un élément en tête de list la complexité est de O(1).  \n",
    "- La méthode `RPUSH` permet d'ajouter un élément en queue de list la complexité est de O(1).  \n",
    "- La méthode `LINSERT` permet d'ajouter un élément avant ou après la première occurence d'une certaine valeur, la complexité est de O(N) à part pour le premier et le dernier élèment.\n",
    "- La méthode `LSET` permet de modifier la valeur correspondant à l'index spécifié, la complexité est de O(N) à part pour le premier et le dernier élèment.\n",
    "- La méthode `RPOP` permet de supprimer un élément en queue de list la complexité est de O(1).\n",
    "- La méthode `LPOP` permet de supprimer un élément en tête de list la complexité est de O(1).\n",
    "- La méthode `LINDEX` permet d'afficher un élément en fonction de son index.\n",
    "- La méthode `LREM` permet de supprimer un élément en fonction de son index.\n",
    "- La méthode `LLEN` permet de récupérer la taille d'une liste.\n",
    "\n",
    "Nous allons toutes les tester."
   ]
  },
  {
   "cell_type": "code",
   "execution_count": 23,
   "metadata": {
    "ExecuteTime": {
     "end_time": "2024-10-08T14:25:24.580006Z",
     "start_time": "2024-10-08T14:25:24.576496Z"
    }
   },
   "outputs": [
    {
     "data": {
      "text/plain": [
       "2"
      ]
     },
     "execution_count": 23,
     "metadata": {},
     "output_type": "execute_result"
    }
   ],
   "source": [
    "redis_client.lpush('language_list', \"kotlin\")\n",
    "redis_client.lpush('language_list', \"python\")"
   ]
  },
  {
   "cell_type": "markdown",
   "metadata": {},
   "source": [
    "On peut aussi ajouter plusieurs éléments en même temps dans une liste"
   ]
  },
  {
   "cell_type": "code",
   "execution_count": 24,
   "metadata": {
    "ExecuteTime": {
     "end_time": "2024-10-08T14:25:30.833029Z",
     "start_time": "2024-10-08T14:25:30.828682Z"
    }
   },
   "outputs": [
    {
     "data": {
      "text/plain": [
       "4"
      ]
     },
     "execution_count": 24,
     "metadata": {},
     "output_type": "execute_result"
    }
   ],
   "source": [
    "redis_client.lpush('language_list', \"java\", \"c++\")"
   ]
  },
  {
   "cell_type": "code",
   "execution_count": 25,
   "metadata": {
    "ExecuteTime": {
     "end_time": "2024-10-08T14:25:33.428530Z",
     "start_time": "2024-10-08T14:25:33.425132Z"
    }
   },
   "outputs": [
    {
     "data": {
      "text/plain": [
       "'La taille de la liste est 4'"
      ]
     },
     "execution_count": 25,
     "metadata": {},
     "output_type": "execute_result"
    }
   ],
   "source": [
    "f\"La taille de la liste est {redis_client.llen('language_list')}\""
   ]
  },
  {
   "cell_type": "code",
   "execution_count": 28,
   "metadata": {
    "ExecuteTime": {
     "end_time": "2024-10-08T14:26:04.902982Z",
     "start_time": "2024-10-08T14:26:04.899923Z"
    }
   },
   "outputs": [
    {
     "data": {
      "text/plain": [
       "\"L'élément à l'index 2 de la liste est 'python'\""
      ]
     },
     "execution_count": 28,
     "metadata": {},
     "output_type": "execute_result"
    }
   ],
   "source": [
    "INDEX = 2\n",
    "f\"L'élément à l'index {INDEX} de la liste est '{redis_client.lindex('language_list', INDEX)}'\""
   ]
  },
  {
   "cell_type": "markdown",
   "metadata": {},
   "source": [
    "Le client renvoie la taille de la liste venant d'être mise à jour. On peut afficher tous les éléments de la liste en les retirant un par un."
   ]
  },
  {
   "cell_type": "code",
   "execution_count": 29,
   "metadata": {
    "ExecuteTime": {
     "end_time": "2024-10-08T14:26:23.135832Z",
     "start_time": "2024-10-08T14:26:23.131279Z"
    },
    "scrolled": true
   },
   "outputs": [
    {
     "name": "stdout",
     "output_type": "stream",
     "text": [
      "c++\n",
      "java\n",
      "python\n",
      "kotlin\n"
     ]
    }
   ],
   "source": [
    "while(redis_client.llen('language_list')!=0):\n",
    "\n",
    "    print(redis_client.lpop('language_list'))"
   ]
  },
  {
   "cell_type": "markdown",
   "metadata": {},
   "source": [
    "## Les dictionnaires "
   ]
  },
  {
   "cell_type": "markdown",
   "metadata": {},
   "source": [
    "Redis permet de stocker assez facilement des dictionnaires, on peut comme cela stocker des structures de données plus complexes. Pour cela, nous avons plusieurs méthodes : \n",
    "\n",
    "- La méthode `HMSET` permet d'ajouter un dictionnaire à une clé\n",
    "- La méthode `HSET` permet d'ajouter ou de modifier la valeur d'une clé d'un dictionnaire\n",
    "- La méthode `HGET` permet d'ajouter ou de modifier la valeur d'une clé d'un dictionnaire\n",
    "- La méthode `HGETALL` permet de récupérer toutes les clés valeurs d'un dictionnaire.\n",
    "- La méthode `HKEYS` permet de récupérer toutes les clés d'un dictionnaire\n",
    "- La méthode `HVALS` permet de récupérer toutes les valeurs d'un dictionnaire"
   ]
  },
  {
   "cell_type": "code",
   "execution_count": 42,
   "metadata": {
    "ExecuteTime": {
     "end_time": "2024-10-08T14:29:02.463769Z",
     "start_time": "2024-10-08T14:29:02.461462Z"
    }
   },
   "outputs": [],
   "source": [
    "doc = {\n",
    "    \"name\":\"yourname\",\n",
    "    \"age\":20,\n",
    "    \"city\":\"paris\"\n",
    "}"
   ]
  },
  {
   "cell_type": "code",
   "execution_count": 43,
   "metadata": {
    "ExecuteTime": {
     "end_time": "2024-10-08T14:29:03.124803Z",
     "start_time": "2024-10-08T14:29:03.122063Z"
    }
   },
   "outputs": [
    {
     "data": {
      "text/plain": [
       "0"
      ]
     },
     "execution_count": 43,
     "metadata": {},
     "output_type": "execute_result"
    }
   ],
   "source": [
    "redis_client.hset(\"user1\", mapping=doc)"
   ]
  },
  {
   "cell_type": "code",
   "execution_count": 44,
   "metadata": {
    "ExecuteTime": {
     "end_time": "2024-10-08T14:29:04.561229Z",
     "start_time": "2024-10-08T14:29:04.558137Z"
    }
   },
   "outputs": [
    {
     "data": {
      "text/plain": [
       "{'name': 'yourname', 'age': '20', 'city': 'paris'}"
      ]
     },
     "execution_count": 44,
     "metadata": {},
     "output_type": "execute_result"
    }
   ],
   "source": [
    "redis_client.hgetall(\"user1\")"
   ]
  },
  {
   "cell_type": "markdown",
   "metadata": {},
   "source": [
    "On peut modifier uniquement une clé du dictionnaire"
   ]
  },
  {
   "cell_type": "code",
   "execution_count": 45,
   "metadata": {
    "ExecuteTime": {
     "end_time": "2024-10-08T14:29:08.113030Z",
     "start_time": "2024-10-08T14:29:08.108325Z"
    }
   },
   "outputs": [
    {
     "data": {
      "text/plain": [
       "0"
      ]
     },
     "execution_count": 45,
     "metadata": {},
     "output_type": "execute_result"
    }
   ],
   "source": [
    "redis_client.hset(\"user1\", \"city\", \"lyon\")"
   ]
  },
  {
   "cell_type": "code",
   "execution_count": 46,
   "metadata": {
    "ExecuteTime": {
     "end_time": "2024-10-08T14:29:09.254781Z",
     "start_time": "2024-10-08T14:29:09.250661Z"
    }
   },
   "outputs": [
    {
     "data": {
      "text/plain": [
       "{'name': 'yourname', 'age': '20', 'city': 'lyon'}"
      ]
     },
     "execution_count": 46,
     "metadata": {},
     "output_type": "execute_result"
    }
   ],
   "source": [
    "redis_client.hgetall(\"user1\")"
   ]
  },
  {
   "cell_type": "markdown",
   "metadata": {},
   "source": [
    "## Les pipelines"
   ]
  },
  {
   "cell_type": "code",
   "execution_count": 47,
   "metadata": {
    "ExecuteTime": {
     "end_time": "2024-10-08T14:29:12.406565Z",
     "start_time": "2024-10-08T14:29:12.404886Z"
    }
   },
   "outputs": [],
   "source": [
    "import timeit"
   ]
  },
  {
   "cell_type": "markdown",
   "metadata": {},
   "source": [
    "Lorsque l'on appelle une méthode depuis le client python, chaqu'une d'entre elles fait un appel à Redis, ce qui peut prendre du temps. Les pipelines permettent de réduire ce temps en stockant toutes les opérations et en les applicant une seule fois sur la base. Cela permet d'augmenter grandement les performances en réduisant les appels et le passage par le réseau. "
   ]
  },
  {
   "cell_type": "code",
   "execution_count": 48,
   "metadata": {
    "ExecuteTime": {
     "end_time": "2024-10-08T14:29:46.945136Z",
     "start_time": "2024-10-08T14:29:46.943065Z"
    }
   },
   "outputs": [],
   "source": [
    "N = 10000"
   ]
  },
  {
   "cell_type": "code",
   "execution_count": 49,
   "metadata": {
    "ExecuteTime": {
     "end_time": "2024-10-08T14:29:58.662507Z",
     "start_time": "2024-10-08T14:29:58.660372Z"
    }
   },
   "outputs": [],
   "source": [
    "def store_key_values(N):\n",
    "    for i in range(N):\n",
    "        redis_client.set(f\"key_{i}\", f\"value_{i}\")"
   ]
  },
  {
   "cell_type": "code",
   "execution_count": 50,
   "metadata": {
    "ExecuteTime": {
     "end_time": "2024-10-08T14:30:13.679615Z",
     "start_time": "2024-10-08T14:30:04.092793Z"
    }
   },
   "outputs": [
    {
     "name": "stdout",
     "output_type": "stream",
     "text": [
      "1.19 s ± 29.8 ms per loop (mean ± std. dev. of 7 runs, 1 loop each)\n"
     ]
    }
   ],
   "source": [
    "%%timeit\n",
    "store_key_values(N=N)"
   ]
  },
  {
   "cell_type": "code",
   "execution_count": 51,
   "metadata": {
    "ExecuteTime": {
     "end_time": "2024-10-08T14:30:29.039965Z",
     "start_time": "2024-10-08T14:30:29.037999Z"
    }
   },
   "outputs": [],
   "source": [
    "def store_key_values_with_pipelines(N):\n",
    "    p = redis_client.pipeline()\n",
    "    for i in range(N):\n",
    "        p.set(f\"key_{i}\", f\"value_{i}\")"
   ]
  },
  {
   "cell_type": "code",
   "execution_count": 52,
   "metadata": {
    "ExecuteTime": {
     "end_time": "2024-10-08T14:30:33.644540Z",
     "start_time": "2024-10-08T14:30:30.191686Z"
    }
   },
   "outputs": [
    {
     "name": "stdout",
     "output_type": "stream",
     "text": [
      "4.22 ms ± 28.9 μs per loop (mean ± std. dev. of 7 runs, 100 loops each)\n"
     ]
    }
   ],
   "source": [
    "%%timeit\n",
    "store_key_values_with_pipelines(N=N)"
   ]
  },
  {
   "cell_type": "markdown",
   "metadata": {},
   "source": [
    "On voit alors que l'on peut diviser le temps par 100. Dans vos différents métiers les performances sont souvent très importantes"
   ]
  },
  {
   "cell_type": "markdown",
   "metadata": {},
   "source": [
    "# Exercice"
   ]
  },
  {
   "cell_type": "markdown",
   "metadata": {},
   "source": [
    "Utiliser redis pour gérer les commandes d'un restaurant de burgers, pour simplifier les choses les clients pourront choisir leurs ingrédients dans 3 types de produits :\n",
    "\n",
    "- Pain: blanc, complet, aux céréales\n",
    "- Garniture : salade, tomates , oignons, concombres\n",
    "- Protéines : poulet, boeuf, agneau, tofu\n",
    "\n",
    "Chaque ingrédient équivaut à un prix et un poids, avec chaque commande, vous devrez calculer le poids et le prix que les clients devront régler. \n",
    "\n",
    "1) Stocker les informations concernant les ingrédients dans redis   \n",
    "2) Créer la méthode permettant de créer aléatoirement un burger  \n",
    "3) Créer la méthode qui permet d'empiler dans redis les prochaines commandes (Réfléchir au type de données utilisé)  \n",
    "4) Créer la méthode permettant de calculer le poids et le prix du burger  \n",
    "5) Créer une boucle pour dépiler, réaliser et servir les burgers.  \n",
    "\n",
    "Pour vous aider voici quelques données "
   ]
  },
  {
   "cell_type": "code",
   "execution_count": 53,
   "metadata": {
    "ExecuteTime": {
     "end_time": "2024-10-08T14:31:36.437084Z",
     "start_time": "2024-10-08T14:31:36.434661Z"
    }
   },
   "outputs": [],
   "source": [
    "pains = {\n",
    "    \"blanc\":{\n",
    "        \"poid\":100,\n",
    "        \"prix\": 2\n",
    "    },\n",
    "    \"complet\":{\n",
    "        \"poid\":90,\n",
    "        \"prix\": 3\n",
    "    },\n",
    "    \"cereales\":{\n",
    "        \"poid\":120,\n",
    "        \"prix\": 4\n",
    "    }\n",
    "}"
   ]
  },
  {
   "cell_type": "code",
   "execution_count": 54,
   "metadata": {
    "ExecuteTime": {
     "end_time": "2024-10-08T14:31:37.009022Z",
     "start_time": "2024-10-08T14:31:37.006647Z"
    }
   },
   "outputs": [],
   "source": [
    "garniture = {\n",
    "    \"salade\":{\n",
    "        \"poid\":50,\n",
    "        \"prix\": 1\n",
    "    }, \"tomates\":{\n",
    "        \"poid\":60,\n",
    "        \"prix\": 2\n",
    "    } , \"oignons\":{\n",
    "        \"poid\":10,\n",
    "        \"prix\": 1.5\n",
    "    }, \"concombres\":{\n",
    "        \"poid\":30,\n",
    "        \"prix\": 3\n",
    "    }\n",
    "}"
   ]
  },
  {
   "cell_type": "code",
   "execution_count": 55,
   "metadata": {
    "ExecuteTime": {
     "end_time": "2024-10-08T14:31:37.761895Z",
     "start_time": "2024-10-08T14:31:37.759333Z"
    }
   },
   "outputs": [],
   "source": [
    "proteine = {\n",
    "    \"poulet\":{\n",
    "        \"poid\":100,\n",
    "        \"prix\": 6\n",
    "    }, \"boeuf\":{\n",
    "        \"poid\":150,\n",
    "        \"prix\": 5\n",
    "    } , \"agneau\":{\n",
    "        \"poid\":120,\n",
    "        \"prix\": 7\n",
    "    }, \"tofu\":{\n",
    "        \"poid\":80,\n",
    "        \"prix\": 8\n",
    "    }\n",
    "}"
   ]
  },
  {
   "cell_type": "code",
   "execution_count": 56,
   "metadata": {
    "ExecuteTime": {
     "end_time": "2024-10-08T14:31:43.963024Z",
     "start_time": "2024-10-08T14:31:43.960804Z"
    }
   },
   "outputs": [],
   "source": [
    "def make_burger():\n",
    "    pass\n",
    "\n",
    "def make_order():\n",
    "    pass\n",
    "\n",
    "def get_next_order():\n",
    "    pass\n",
    "\n",
    "def process_price_weight():\n",
    "    pass\n",
    "\n",
    "def process_burger():\n",
    "    return None, None, None"
   ]
  },
  {
   "cell_type": "code",
   "execution_count": 57,
   "metadata": {
    "ExecuteTime": {
     "end_time": "2024-10-08T14:31:49.226935Z",
     "start_time": "2024-10-08T14:31:49.224579Z"
    }
   },
   "outputs": [
    {
     "name": "stdout",
     "output_type": "stream",
     "text": [
      "Le burger None de None gr à été préparé et servi il faut régler None€\n"
     ]
    }
   ],
   "source": [
    "while True:\n",
    "    burger, price, weight = process_burger()\n",
    "    print(f'Le burger {burger} de {weight} gr à été préparé et servi il faut régler {price}€')\n",
    "    break"
   ]
  },
  {
   "cell_type": "code",
   "execution_count": null,
   "metadata": {},
   "outputs": [],
   "source": []
  },
  {
   "cell_type": "code",
   "execution_count": null,
   "metadata": {},
   "outputs": [],
   "source": []
  }
 ],
 "metadata": {
  "kernelspec": {
   "display_name": "DSIA_DataE-zgJdtTYd",
   "language": "python",
   "name": "python3"
  },
  "language_info": {
   "codemirror_mode": {
    "name": "ipython",
    "version": 3
   },
   "file_extension": ".py",
   "mimetype": "text/x-python",
   "name": "python",
   "nbconvert_exporter": "python",
   "pygments_lexer": "ipython3",
   "version": "3.12.6"
  },
  "varInspector": {
   "cols": {
    "lenName": 16,
    "lenType": 16,
    "lenVar": 40
   },
   "kernels_config": {
    "python": {
     "delete_cmd_postfix": "",
     "delete_cmd_prefix": "del ",
     "library": "var_list.py",
     "varRefreshCmd": "print(var_dic_list())"
    },
    "r": {
     "delete_cmd_postfix": ") ",
     "delete_cmd_prefix": "rm(",
     "library": "var_list.r",
     "varRefreshCmd": "cat(var_dic_list()) "
    }
   },
   "types_to_exclude": [
    "module",
    "function",
    "builtin_function_or_method",
    "instance",
    "_Feature"
   ],
   "window_display": false
  }
 },
 "nbformat": 4,
 "nbformat_minor": 2
}
